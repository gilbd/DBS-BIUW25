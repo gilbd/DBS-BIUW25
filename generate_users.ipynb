{
 "cells": [
  {
   "cell_type": "markdown",
   "metadata": {},
   "source": [
    "# Generate the table"
   ]
  },
  {
   "cell_type": "markdown",
   "metadata": {},
   "source": [
    "In our dataset, there's no data on the users, but we do have the tables of interactions between users and recipes (rating).  \n",
    "We can generate a table of users by extracting the users from the interactions tables.  \n",
    "\n",
    "The users table defined as follows:\n",
    "```sql\n",
    "-- User table\n",
    "CREATE TABLE dbs.user (\n",
    "    user_id INT PRIMARY KEY,\n",
    "    first_name VARCHAR(45),\n",
    "    last_name VARCHAR(45),\n",
    "    date_of_birth DATE,\n",
    "    weight TINYINT,\n",
    "    height TINYINT,\n",
    "    sex ENUM('M', 'F'),\n",
    "    email VARCHAR(255) UNIQUE NOT NULL,\n",
    "    password_hash VARCHAR(60) NOT NULL,\n",
    "    created_at TIMESTAMP DEFAULT CURRENT_TIMESTAMP,\n",
    "    updated_at TIMESTAMP DEFAULT CURRENT_TIMESTAMP ON UPDATE CURRENT_TIMESTAMP\n",
    ");\n",
    "```"
   ]
  },
  {
   "cell_type": "markdown",
   "metadata": {},
   "source": [
    "# 0. Importing the necessary libraries"
   ]
  },
  {
   "cell_type": "code",
   "execution_count": 2,
   "metadata": {},
   "outputs": [
    {
     "name": "stdout",
     "output_type": "stream",
     "text": [
      "Requirement already satisfied: pandas in c:\\users\\gilbe\\documents\\academics\\m.sc\\year 4\\semester a\\db workshop\\venv\\lib\\site-packages (2.0.3)\n",
      "Requirement already satisfied: Faker in c:\\users\\gilbe\\documents\\academics\\m.sc\\year 4\\semester a\\db workshop\\venv\\lib\\site-packages (33.1.0)\n",
      "Requirement already satisfied: tqdm in c:\\users\\gilbe\\documents\\academics\\m.sc\\year 4\\semester a\\db workshop\\venv\\lib\\site-packages (4.67.1)\n",
      "Requirement already satisfied: bcrypt in c:\\users\\gilbe\\documents\\academics\\m.sc\\year 4\\semester a\\db workshop\\venv\\lib\\site-packages (4.2.1)\n",
      "Requirement already satisfied: python-dateutil>=2.8.2 in c:\\users\\gilbe\\documents\\academics\\m.sc\\year 4\\semester a\\db workshop\\venv\\lib\\site-packages (from pandas) (2.9.0.post0)\n",
      "Requirement already satisfied: pytz>=2020.1 in c:\\users\\gilbe\\documents\\academics\\m.sc\\year 4\\semester a\\db workshop\\venv\\lib\\site-packages (from pandas) (2024.2)\n",
      "Requirement already satisfied: tzdata>=2022.1 in c:\\users\\gilbe\\documents\\academics\\m.sc\\year 4\\semester a\\db workshop\\venv\\lib\\site-packages (from pandas) (2024.2)\n",
      "Requirement already satisfied: numpy>=1.20.3 in c:\\users\\gilbe\\documents\\academics\\m.sc\\year 4\\semester a\\db workshop\\venv\\lib\\site-packages (from pandas) (1.24.4)\n",
      "Requirement already satisfied: typing-extensions in c:\\users\\gilbe\\documents\\academics\\m.sc\\year 4\\semester a\\db workshop\\venv\\lib\\site-packages (from Faker) (4.12.2)\n",
      "Requirement already satisfied: colorama in c:\\users\\gilbe\\documents\\academics\\m.sc\\year 4\\semester a\\db workshop\\venv\\lib\\site-packages (from tqdm) (0.4.6)\n",
      "Requirement already satisfied: six>=1.5 in c:\\users\\gilbe\\documents\\academics\\m.sc\\year 4\\semester a\\db workshop\\venv\\lib\\site-packages (from python-dateutil>=2.8.2->pandas) (1.17.0)\n"
     ]
    }
   ],
   "source": [
    "!pip install pandas Faker tqdm bcrypt"
   ]
  },
  {
   "cell_type": "code",
   "execution_count": 1,
   "metadata": {},
   "outputs": [],
   "source": [
    "import os\n",
    "import ast\n",
    "import json\n",
    "import bcrypt\n",
    "import numpy as np\n",
    "import pandas as pd\n",
    "from tqdm import tqdm\n",
    "\n",
    "from faker import Faker\n",
    "\n",
    "os.chdir(r\"C:\\Users\\gilbe\\Documents\\Academics\\M.Sc\\Year 4\\Semester A\\DB Workshop\")"
   ]
  },
  {
   "cell_type": "code",
   "execution_count": 7,
   "metadata": {},
   "outputs": [
    {
     "data": {
      "text/html": [
       "<div>\n",
       "<style scoped>\n",
       "    .dataframe tbody tr th:only-of-type {\n",
       "        vertical-align: middle;\n",
       "    }\n",
       "\n",
       "    .dataframe tbody tr th {\n",
       "        vertical-align: top;\n",
       "    }\n",
       "\n",
       "    .dataframe thead th {\n",
       "        text-align: right;\n",
       "    }\n",
       "</style>\n",
       "<table border=\"1\" class=\"dataframe\">\n",
       "  <thead>\n",
       "    <tr style=\"text-align: right;\">\n",
       "      <th></th>\n",
       "      <th>user_id</th>\n",
       "      <th>recipe_id</th>\n",
       "      <th>rating</th>\n",
       "      <th>dateLastModified</th>\n",
       "    </tr>\n",
       "  </thead>\n",
       "  <tbody>\n",
       "    <tr>\n",
       "      <th>0</th>\n",
       "      <td>8542392</td>\n",
       "      <td>222388</td>\n",
       "      <td>5</td>\n",
       "      <td>2017-04-22T12:46:43.663\\n</td>\n",
       "    </tr>\n",
       "    <tr>\n",
       "      <th>1</th>\n",
       "      <td>11174581</td>\n",
       "      <td>222388</td>\n",
       "      <td>5</td>\n",
       "      <td>2013-06-20T15:50:25.96\\n</td>\n",
       "    </tr>\n",
       "    <tr>\n",
       "      <th>2</th>\n",
       "      <td>8262477</td>\n",
       "      <td>222388</td>\n",
       "      <td>5</td>\n",
       "      <td>2015-02-14T07:27:51.307\\n</td>\n",
       "    </tr>\n",
       "    <tr>\n",
       "      <th>3</th>\n",
       "      <td>3574785</td>\n",
       "      <td>240488</td>\n",
       "      <td>5</td>\n",
       "      <td>2017-10-07T18:20:08.973\\n</td>\n",
       "    </tr>\n",
       "    <tr>\n",
       "      <th>4</th>\n",
       "      <td>12145410</td>\n",
       "      <td>240488</td>\n",
       "      <td>2</td>\n",
       "      <td>2018-01-06T00:06:09.563\\n</td>\n",
       "    </tr>\n",
       "  </tbody>\n",
       "</table>\n",
       "</div>"
      ],
      "text/plain": [
       "    user_id  recipe_id  rating           dateLastModified\n",
       "0   8542392     222388       5  2017-04-22T12:46:43.663\\n\n",
       "1  11174581     222388       5   2013-06-20T15:50:25.96\\n\n",
       "2   8262477     222388       5  2015-02-14T07:27:51.307\\n\n",
       "3   3574785     240488       5  2017-10-07T18:20:08.973\\n\n",
       "4  12145410     240488       2  2018-01-06T00:06:09.563\\n"
      ]
     },
     "execution_count": 7,
     "metadata": {},
     "output_type": "execute_result"
    }
   ],
   "source": [
    "path = \"raw-data_interaction.csv\"\n",
    "df = pd.read_csv(path)\n",
    "df.head()"
   ]
  },
  {
   "cell_type": "code",
   "execution_count": 8,
   "metadata": {},
   "outputs": [],
   "source": [
    "# pd.to_datetime(df[\"dateLastModified\"].str[:-1], format=\"%Y-%m-%dT%H:%M:%S.%f\")\n",
    "df[\"datetime\"] = pd.to_datetime(df[\"dateLastModified\"].str[:-1], format=\"mixed\")"
   ]
  },
  {
   "cell_type": "code",
   "execution_count": 9,
   "metadata": {},
   "outputs": [
    {
     "data": {
      "text/plain": [
       "count                          3794003\n",
       "mean     2010-10-22 14:10:57.267878656\n",
       "min         2000-02-07 21:06:30.137000\n",
       "25%         2008-02-25 06:23:30.880000\n",
       "50%      2010-10-25 12:15:48.150000128\n",
       "75%      2013-12-24 06:31:24.813499904\n",
       "max         2018-03-16 07:19:52.260000\n",
       "Name: datetime, dtype: object"
      ]
     },
     "execution_count": 9,
     "metadata": {},
     "output_type": "execute_result"
    }
   ],
   "source": [
    "df[\"datetime\"].describe()"
   ]
  },
  {
   "cell_type": "code",
   "execution_count": 10,
   "metadata": {},
   "outputs": [],
   "source": [
    "# Let's move the dates forward, so the last modified date is today\n",
    "offset = pd.to_datetime(\"today\") - df[\"datetime\"].max()\n",
    "df[\"datetime\"] = df[\"datetime\"] + offset"
   ]
  },
  {
   "cell_type": "code",
   "execution_count": 11,
   "metadata": {},
   "outputs": [
    {
     "data": {
      "text/plain": [
       "count                          3794003\n",
       "mean     2017-08-03 18:33:08.130244864\n",
       "min         2006-11-20 01:28:40.999366\n",
       "25%      2014-12-07 10:45:41.742365952\n",
       "50%      2017-08-06 16:37:59.012366080\n",
       "75%      2020-10-05 10:53:35.675865856\n",
       "max         2024-12-26 11:42:03.122366\n",
       "Name: datetime, dtype: object"
      ]
     },
     "execution_count": 11,
     "metadata": {},
     "output_type": "execute_result"
    }
   ],
   "source": [
    "df[\"datetime\"].describe()"
   ]
  },
  {
   "cell_type": "code",
   "execution_count": 12,
   "metadata": {},
   "outputs": [
    {
     "data": {
      "text/html": [
       "<div>\n",
       "<style scoped>\n",
       "    .dataframe tbody tr th:only-of-type {\n",
       "        vertical-align: middle;\n",
       "    }\n",
       "\n",
       "    .dataframe tbody tr th {\n",
       "        vertical-align: top;\n",
       "    }\n",
       "\n",
       "    .dataframe thead th {\n",
       "        text-align: right;\n",
       "    }\n",
       "</style>\n",
       "<table border=\"1\" class=\"dataframe\">\n",
       "  <thead>\n",
       "    <tr style=\"text-align: right;\">\n",
       "      <th></th>\n",
       "      <th>count</th>\n",
       "      <th>mean</th>\n",
       "      <th>std</th>\n",
       "      <th>min</th>\n",
       "      <th>25%</th>\n",
       "      <th>50%</th>\n",
       "      <th>75%</th>\n",
       "      <th>max</th>\n",
       "    </tr>\n",
       "  </thead>\n",
       "  <tbody>\n",
       "    <tr>\n",
       "      <th>count</th>\n",
       "      <td>1160267.0</td>\n",
       "      <td>3.26994</td>\n",
       "      <td>13.54242</td>\n",
       "      <td>1.0</td>\n",
       "      <td>1.0</td>\n",
       "      <td>1.0</td>\n",
       "      <td>2.0</td>\n",
       "      <td>4003.0</td>\n",
       "    </tr>\n",
       "  </tbody>\n",
       "</table>\n",
       "</div>"
      ],
      "text/plain": [
       "           count     mean       std  min  25%  50%  75%     max\n",
       "count  1160267.0  3.26994  13.54242  1.0  1.0  1.0  2.0  4003.0"
      ]
     },
     "execution_count": 12,
     "metadata": {},
     "output_type": "execute_result"
    }
   ],
   "source": [
    "df[\"user_id\"].value_counts().describe().to_frame().T"
   ]
  },
  {
   "cell_type": "code",
   "execution_count": 14,
   "metadata": {},
   "outputs": [],
   "source": [
    "from typing import Optional, TypedDict\n",
    "\n",
    "class User(TypedDict):\n",
    "    user_id: int\n",
    "    name: str\n",
    "    date_of_birth: str\n",
    "    weight: int\n",
    "    height: int\n",
    "    sex: str\n",
    "    email: str\n",
    "    password_hash: str\n",
    "    created_at: str\n",
    "    updated_at: Optional[str]"
   ]
  },
  {
   "cell_type": "markdown",
   "metadata": {},
   "source": [
    "# 1. Simulate the user data"
   ]
  },
  {
   "cell_type": "code",
   "execution_count": 15,
   "metadata": {},
   "outputs": [],
   "source": [
    "def generate_date_of_birth(created_at: pd.Series, mean_age: float = 70, std_age: float = 27, size: int = None) -> pd.Series:\n",
    "    \"\"\"Generate random dates of birth using normal distribution with mean age.\n",
    "    \n",
    "    Args:\n",
    "        created_at: Series of user account creation dates\n",
    "        mean_age: Mean age in years (default 70 based on data)\n",
    "        std_age: Standard deviation of age in years (default 27 based on data)\n",
    "        size: Number of dates to generate (default None, uses length of created_at)\n",
    "\n",
    "    Returns:\n",
    "        Series of birth dates as YYYY-MM-DD strings\n",
    "    \"\"\"\n",
    "    if size is None:\n",
    "        size = len(created_at)\n",
    "        \n",
    "    # Sample ages from normal distribution, ensuring minimum age of 18\n",
    "    ages = np.maximum(18, np.random.normal(mean_age, std_age, size))\n",
    "    \n",
    "    # Vectorized calculation of birth dates\n",
    "    birth_dates = created_at - pd.TimedeltaIndex(ages.astype(int) * 365.25, unit='D')\n",
    "    \n",
    "    return birth_dates.dt.strftime(\"%Y-%m-%d\")"
   ]
  },
  {
   "cell_type": "markdown",
   "metadata": {},
   "source": [
    "For each user, we will generate: name, email, password_hash, phone, address, date_of_birth, weight, height and sex\n"
   ]
  },
  {
   "cell_type": "code",
   "execution_count": 16,
   "metadata": {},
   "outputs": [],
   "source": [
    "user_ids = df[\"user_id\"].unique()\n",
    "users = dict()\n",
    "fake = Faker()\n",
    "Faker.seed(1337)\n",
    "\n",
    "password = \"123456\"\n",
    "password_hash = bcrypt.hashpw(password.encode(), bcrypt.gensalt()).decode()\n",
    "\n",
    "weight_params = {\n",
    "    \"M\": {\"mean\": 80, \"std\": 10},\n",
    "    \"F\": {\"mean\": 60, \"std\": 10},\n",
    "}\n",
    "height_params = {\n",
    "    \"M\": {\"mean\": 180, \"std\": 10}, \n",
    "    \"F\": {\"mean\": 165, \"std\": 10},\n",
    "}"
   ]
  },
  {
   "cell_type": "code",
   "execution_count": 17,
   "metadata": {},
   "outputs": [],
   "source": [
    "# Pre-calculate first interaction dates for all users\n",
    "first_interactions = df.groupby(\"user_id\")[\"datetime\"].min()"
   ]
  },
  {
   "cell_type": "code",
   "execution_count": 18,
   "metadata": {},
   "outputs": [],
   "source": [
    "# Generate random days offset vector for all users at once\n",
    "days_offset = np.random.randint(1, 31, size=len(user_ids))\n",
    "\n",
    "# Generate sex for all users at once \n",
    "sexes = np.random.choice([\"M\", \"F\"], size=len(user_ids))\n",
    "\n",
    "# Generate weights and heights vectors\n",
    "weights = np.where(sexes == \"M\", \n",
    "                  np.random.normal(weight_params[\"M\"][\"mean\"], weight_params[\"M\"][\"std\"], len(user_ids)),\n",
    "                  np.random.normal(weight_params[\"F\"][\"mean\"], weight_params[\"F\"][\"std\"], len(user_ids)))\n",
    "\n",
    "heights = np.where(sexes == \"M\",\n",
    "                  np.random.normal(height_params[\"M\"][\"mean\"], height_params[\"M\"][\"std\"], len(user_ids)), \n",
    "                  np.random.normal(height_params[\"F\"][\"mean\"], height_params[\"F\"][\"std\"], len(user_ids)))"
   ]
  },
  {
   "cell_type": "code",
   "execution_count": 19,
   "metadata": {},
   "outputs": [
    {
     "name": "stderr",
     "output_type": "stream",
     "text": [
      "100%|██████████| 1160267/1160267 [02:12<00:00, 8786.12it/s]\n",
      "100%|██████████| 1160267/1160267 [02:12<00:00, 8777.19it/s]\n"
     ]
    }
   ],
   "source": [
    "# Pre-generate names and emails\n",
    "names = [fake.name() for _ in tqdm(range(len(user_ids)))]"
   ]
  },
  {
   "cell_type": "code",
   "execution_count": 24,
   "metadata": {},
   "outputs": [],
   "source": [
    "dates_of_birth = generate_date_of_birth(created_at=first_interactions, mean_age=30, std_age=3, size=len(user_ids))"
   ]
  },
  {
   "cell_type": "code",
   "execution_count": 25,
   "metadata": {},
   "outputs": [
    {
     "name": "stderr",
     "output_type": "stream",
     "text": [
      "  0%|          | 0/1160267 [00:00<?, ?it/s]"
     ]
    },
    {
     "name": "stderr",
     "output_type": "stream",
     "text": [
      "100%|██████████| 1160267/1160267 [00:54<00:00, 21282.85it/s]\n"
     ]
    }
   ],
   "source": [
    "for i, user_id in enumerate(tqdm(user_ids)):\n",
    "    created_at = first_interactions[user_id] - pd.Timedelta(days=days_offset[i])\n",
    "    email = f\"{user_id}@example.com\"\n",
    "    \n",
    "    user = {\n",
    "        \"id\": user_id,\n",
    "        \"name\": names[i],\n",
    "        \"email\": email, \n",
    "        \"password_hash\": password_hash,\n",
    "        \"date_of_birth\": dates_of_birth.iloc[i],\n",
    "        \"weight\": weights[i],\n",
    "        \"height\": heights[i],\n",
    "        \"sex\": sexes[i],\n",
    "        \"created_at\": created_at.strftime(\"%Y-%m-%d\"),\n",
    "    }\n",
    "    users[user_id] = user"
   ]
  },
  {
   "cell_type": "code",
   "execution_count": 26,
   "metadata": {},
   "outputs": [
    {
     "name": "stderr",
     "output_type": "stream",
     "text": [
      "100%|██████████| 1160267/1160267 [00:00<00:00, 1701135.27it/s]\n"
     ]
    }
   ],
   "source": [
    "users_int = {int(k): v for k, v in tqdm(users.items())}"
   ]
  },
  {
   "cell_type": "code",
   "execution_count": 35,
   "metadata": {},
   "outputs": [],
   "source": [
    "with open(\"users.json\", \"w\") as f:\n",
    "    json.dump(users_int, f, indent=4)"
   ]
  },
  {
   "cell_type": "code",
   "execution_count": 4,
   "metadata": {},
   "outputs": [],
   "source": [
    "with open(\"users.json\", \"r\") as f:\n",
    "    users_int = json.load(f)\n"
   ]
  },
  {
   "cell_type": "code",
   "execution_count": 36,
   "metadata": {},
   "outputs": [
    {
     "data": {
      "text/plain": [
       "{'name': 'Kim Diaz',\n",
       " 'email': '8542392@example.com',\n",
       " 'password_hash': '$2b$12$HLyLfbyxXovuTREeRlfUAODUuM8Rrf15VuFnaDbBBKgduzv/4MT5y',\n",
       " 'date_of_birth': '1975-12-08',\n",
       " 'weight': 70.71667777793547,\n",
       " 'height': 156.48908775480072,\n",
       " 'sex': 'F',\n",
       " 'created_at': '2020-09-30'}"
      ]
     },
     "execution_count": 36,
     "metadata": {},
     "output_type": "execute_result"
    }
   ],
   "source": [
    "users[list(users.keys())[0]]"
   ]
  },
  {
   "cell_type": "code",
   "execution_count": 37,
   "metadata": {},
   "outputs": [
    {
     "data": {
      "text/html": [
       "<div>\n",
       "<style scoped>\n",
       "    .dataframe tbody tr th:only-of-type {\n",
       "        vertical-align: middle;\n",
       "    }\n",
       "\n",
       "    .dataframe tbody tr th {\n",
       "        vertical-align: top;\n",
       "    }\n",
       "\n",
       "    .dataframe thead th {\n",
       "        text-align: right;\n",
       "    }\n",
       "</style>\n",
       "<table border=\"1\" class=\"dataframe\">\n",
       "  <thead>\n",
       "    <tr style=\"text-align: right;\">\n",
       "      <th></th>\n",
       "      <th>user_id</th>\n",
       "      <th>name</th>\n",
       "      <th>email</th>\n",
       "      <th>password_hash</th>\n",
       "      <th>date_of_birth</th>\n",
       "      <th>weight</th>\n",
       "      <th>height</th>\n",
       "      <th>sex</th>\n",
       "      <th>created_at</th>\n",
       "    </tr>\n",
       "  </thead>\n",
       "  <tbody>\n",
       "    <tr>\n",
       "      <th>0</th>\n",
       "      <td>8542392</td>\n",
       "      <td>Kim Diaz</td>\n",
       "      <td>8542392@example.com</td>\n",
       "      <td>$2b$12$HLyLfbyxXovuTREeRlfUAODUuM8Rrf15VuFnaDb...</td>\n",
       "      <td>1975-12-08</td>\n",
       "      <td>70.716678</td>\n",
       "      <td>156.489088</td>\n",
       "      <td>F</td>\n",
       "      <td>2020-09-30</td>\n",
       "    </tr>\n",
       "    <tr>\n",
       "      <th>1</th>\n",
       "      <td>11174581</td>\n",
       "      <td>Carol Holloway</td>\n",
       "      <td>11174581@example.com</td>\n",
       "      <td>$2b$12$HLyLfbyxXovuTREeRlfUAODUuM8Rrf15VuFnaDb...</td>\n",
       "      <td>1982-10-04</td>\n",
       "      <td>72.173259</td>\n",
       "      <td>160.737744</td>\n",
       "      <td>M</td>\n",
       "      <td>2019-12-12</td>\n",
       "    </tr>\n",
       "    <tr>\n",
       "      <th>2</th>\n",
       "      <td>8262477</td>\n",
       "      <td>Richard Dorsey</td>\n",
       "      <td>8262477@example.com</td>\n",
       "      <td>$2b$12$HLyLfbyxXovuTREeRlfUAODUuM8Rrf15VuFnaDb...</td>\n",
       "      <td>1974-11-20</td>\n",
       "      <td>58.747264</td>\n",
       "      <td>154.202618</td>\n",
       "      <td>F</td>\n",
       "      <td>2021-11-18</td>\n",
       "    </tr>\n",
       "    <tr>\n",
       "      <th>3</th>\n",
       "      <td>3574785</td>\n",
       "      <td>Willie Harris</td>\n",
       "      <td>3574785@example.com</td>\n",
       "      <td>$2b$12$HLyLfbyxXovuTREeRlfUAODUuM8Rrf15VuFnaDb...</td>\n",
       "      <td>1981-12-14</td>\n",
       "      <td>75.823579</td>\n",
       "      <td>171.805924</td>\n",
       "      <td>F</td>\n",
       "      <td>2021-11-24</td>\n",
       "    </tr>\n",
       "    <tr>\n",
       "      <th>4</th>\n",
       "      <td>12145410</td>\n",
       "      <td>Susan Rodriguez</td>\n",
       "      <td>12145410@example.com</td>\n",
       "      <td>$2b$12$HLyLfbyxXovuTREeRlfUAODUuM8Rrf15VuFnaDb...</td>\n",
       "      <td>1974-12-01</td>\n",
       "      <td>62.092151</td>\n",
       "      <td>187.15616</td>\n",
       "      <td>M</td>\n",
       "      <td>2022-09-29</td>\n",
       "    </tr>\n",
       "  </tbody>\n",
       "</table>\n",
       "</div>"
      ],
      "text/plain": [
       "    user_id             name                 email  \\\n",
       "0   8542392         Kim Diaz   8542392@example.com   \n",
       "1  11174581   Carol Holloway  11174581@example.com   \n",
       "2   8262477   Richard Dorsey   8262477@example.com   \n",
       "3   3574785    Willie Harris   3574785@example.com   \n",
       "4  12145410  Susan Rodriguez  12145410@example.com   \n",
       "\n",
       "                                       password_hash date_of_birth     weight  \\\n",
       "0  $2b$12$HLyLfbyxXovuTREeRlfUAODUuM8Rrf15VuFnaDb...    1975-12-08  70.716678   \n",
       "1  $2b$12$HLyLfbyxXovuTREeRlfUAODUuM8Rrf15VuFnaDb...    1982-10-04  72.173259   \n",
       "2  $2b$12$HLyLfbyxXovuTREeRlfUAODUuM8Rrf15VuFnaDb...    1974-11-20  58.747264   \n",
       "3  $2b$12$HLyLfbyxXovuTREeRlfUAODUuM8Rrf15VuFnaDb...    1981-12-14  75.823579   \n",
       "4  $2b$12$HLyLfbyxXovuTREeRlfUAODUuM8Rrf15VuFnaDb...    1974-12-01  62.092151   \n",
       "\n",
       "       height sex  created_at  \n",
       "0  156.489088   F  2020-09-30  \n",
       "1  160.737744   M  2019-12-12  \n",
       "2  154.202618   F  2021-11-18  \n",
       "3  171.805924   F  2021-11-24  \n",
       "4   187.15616   M  2022-09-29  "
      ]
     },
     "execution_count": 37,
     "metadata": {},
     "output_type": "execute_result"
    }
   ],
   "source": [
    "user_df = pd.DataFrame(users_int).T\n",
    "user_df.index.name = \"user_id\"\n",
    "user_df = user_df.reset_index()\n",
    "user_df.head()"
   ]
  },
  {
   "cell_type": "code",
   "execution_count": 38,
   "metadata": {},
   "outputs": [],
   "source": [
    "user_df[\"weight\"] = user_df[\"weight\"].astype(int)\n",
    "user_df[\"height\"] = user_df[\"height\"].astype(int)"
   ]
  },
  {
   "cell_type": "code",
   "execution_count": 39,
   "metadata": {},
   "outputs": [
    {
     "data": {
      "text/html": [
       "<div>\n",
       "<style scoped>\n",
       "    .dataframe tbody tr th:only-of-type {\n",
       "        vertical-align: middle;\n",
       "    }\n",
       "\n",
       "    .dataframe tbody tr th {\n",
       "        vertical-align: top;\n",
       "    }\n",
       "\n",
       "    .dataframe thead th {\n",
       "        text-align: right;\n",
       "    }\n",
       "</style>\n",
       "<table border=\"1\" class=\"dataframe\">\n",
       "  <thead>\n",
       "    <tr style=\"text-align: right;\">\n",
       "      <th></th>\n",
       "      <th>count</th>\n",
       "      <th>mean</th>\n",
       "      <th>std</th>\n",
       "      <th>min</th>\n",
       "      <th>25%</th>\n",
       "      <th>50%</th>\n",
       "      <th>75%</th>\n",
       "      <th>max</th>\n",
       "    </tr>\n",
       "  </thead>\n",
       "  <tbody>\n",
       "    <tr>\n",
       "      <th>date_of_birth</th>\n",
       "      <td>1160267.0</td>\n",
       "      <td>36.938749</td>\n",
       "      <td>5.311992</td>\n",
       "      <td>19.0</td>\n",
       "      <td>33.0</td>\n",
       "      <td>37.0</td>\n",
       "      <td>40.0</td>\n",
       "      <td>60.0</td>\n",
       "    </tr>\n",
       "  </tbody>\n",
       "</table>\n",
       "</div>"
      ],
      "text/plain": [
       "                   count       mean       std   min   25%   50%   75%   max\n",
       "date_of_birth  1160267.0  36.938749  5.311992  19.0  33.0  37.0  40.0  60.0"
      ]
     },
     "execution_count": 39,
     "metadata": {},
     "output_type": "execute_result"
    }
   ],
   "source": [
    "(2025 - pd.to_datetime(user_df[\"date_of_birth\"]).dt.year).describe().to_frame().T\n"
   ]
  },
  {
   "cell_type": "code",
   "execution_count": 40,
   "metadata": {},
   "outputs": [],
   "source": [
    "user_df.to_csv(\"users.csv\", index=False)"
   ]
  },
  {
   "cell_type": "code",
   "execution_count": 3,
   "metadata": {},
   "outputs": [
    {
     "data": {
      "text/html": [
       "<div>\n",
       "<style scoped>\n",
       "    .dataframe tbody tr th:only-of-type {\n",
       "        vertical-align: middle;\n",
       "    }\n",
       "\n",
       "    .dataframe tbody tr th {\n",
       "        vertical-align: top;\n",
       "    }\n",
       "\n",
       "    .dataframe thead th {\n",
       "        text-align: right;\n",
       "    }\n",
       "</style>\n",
       "<table border=\"1\" class=\"dataframe\">\n",
       "  <thead>\n",
       "    <tr style=\"text-align: right;\">\n",
       "      <th></th>\n",
       "      <th>name</th>\n",
       "      <th>email</th>\n",
       "      <th>password_hash</th>\n",
       "      <th>date_of_birth</th>\n",
       "      <th>weight</th>\n",
       "      <th>height</th>\n",
       "      <th>sex</th>\n",
       "      <th>created_at</th>\n",
       "    </tr>\n",
       "  </thead>\n",
       "  <tbody>\n",
       "    <tr>\n",
       "      <th>0</th>\n",
       "      <td>Kim Diaz</td>\n",
       "      <td>keith57@example.org</td>\n",
       "      <td>$2b$12$gQ5cTbFboXtm3B3ArLfru.65J3oVzCl7oZuYAH8...</td>\n",
       "      <td>1977-12-06</td>\n",
       "      <td>65</td>\n",
       "      <td>153</td>\n",
       "      <td>F</td>\n",
       "      <td>2020-09-29</td>\n",
       "    </tr>\n",
       "    <tr>\n",
       "      <th>1</th>\n",
       "      <td>Carol Holloway</td>\n",
       "      <td>paulhunter@example.org</td>\n",
       "      <td>$2b$12$gQ5cTbFboXtm3B3ArLfru.65J3oVzCl7oZuYAH8...</td>\n",
       "      <td>1981-10-03</td>\n",
       "      <td>108</td>\n",
       "      <td>181</td>\n",
       "      <td>M</td>\n",
       "      <td>2019-12-23</td>\n",
       "    </tr>\n",
       "    <tr>\n",
       "      <th>2</th>\n",
       "      <td>Richard Dorsey</td>\n",
       "      <td>harrishannah@example.com</td>\n",
       "      <td>$2b$12$gQ5cTbFboXtm3B3ArLfru.65J3oVzCl7oZuYAH8...</td>\n",
       "      <td>1981-11-19</td>\n",
       "      <td>81</td>\n",
       "      <td>169</td>\n",
       "      <td>M</td>\n",
       "      <td>2021-11-24</td>\n",
       "    </tr>\n",
       "    <tr>\n",
       "      <th>3</th>\n",
       "      <td>Willie Harris</td>\n",
       "      <td>meganmurray@example.com</td>\n",
       "      <td>$2b$12$gQ5cTbFboXtm3B3ArLfru.65J3oVzCl7oZuYAH8...</td>\n",
       "      <td>1976-12-13</td>\n",
       "      <td>82</td>\n",
       "      <td>158</td>\n",
       "      <td>M</td>\n",
       "      <td>2021-12-07</td>\n",
       "    </tr>\n",
       "    <tr>\n",
       "      <th>4</th>\n",
       "      <td>Susan Rodriguez</td>\n",
       "      <td>amy81@example.com</td>\n",
       "      <td>$2b$12$gQ5cTbFboXtm3B3ArLfru.65J3oVzCl7oZuYAH8...</td>\n",
       "      <td>1976-11-29</td>\n",
       "      <td>60</td>\n",
       "      <td>151</td>\n",
       "      <td>F</td>\n",
       "      <td>2022-10-24</td>\n",
       "    </tr>\n",
       "  </tbody>\n",
       "</table>\n",
       "</div>"
      ],
      "text/plain": [
       "              name                     email  \\\n",
       "0         Kim Diaz       keith57@example.org   \n",
       "1   Carol Holloway    paulhunter@example.org   \n",
       "2   Richard Dorsey  harrishannah@example.com   \n",
       "3    Willie Harris   meganmurray@example.com   \n",
       "4  Susan Rodriguez         amy81@example.com   \n",
       "\n",
       "                                       password_hash date_of_birth  weight  \\\n",
       "0  $2b$12$gQ5cTbFboXtm3B3ArLfru.65J3oVzCl7oZuYAH8...    1977-12-06      65   \n",
       "1  $2b$12$gQ5cTbFboXtm3B3ArLfru.65J3oVzCl7oZuYAH8...    1981-10-03     108   \n",
       "2  $2b$12$gQ5cTbFboXtm3B3ArLfru.65J3oVzCl7oZuYAH8...    1981-11-19      81   \n",
       "3  $2b$12$gQ5cTbFboXtm3B3ArLfru.65J3oVzCl7oZuYAH8...    1976-12-13      82   \n",
       "4  $2b$12$gQ5cTbFboXtm3B3ArLfru.65J3oVzCl7oZuYAH8...    1976-11-29      60   \n",
       "\n",
       "   height sex  created_at  \n",
       "0     153   F  2020-09-29  \n",
       "1     181   M  2019-12-23  \n",
       "2     169   M  2021-11-24  \n",
       "3     158   M  2021-12-07  \n",
       "4     151   F  2022-10-24  "
      ]
     },
     "execution_count": 3,
     "metadata": {},
     "output_type": "execute_result"
    }
   ],
   "source": [
    "user_df = pd.read_csv(\"users.csv\")\n",
    "user_df.head()\n"
   ]
  },
  {
   "cell_type": "markdown",
   "metadata": {},
   "source": [
    "# 2. Generate the other tables"
   ]
  },
  {
   "cell_type": "markdown",
   "metadata": {},
   "source": [
    "## 2.1. load the processed data: nutritions, recipes and contains"
   ]
  },
  {
   "cell_type": "code",
   "execution_count": 181,
   "metadata": {},
   "outputs": [
    {
     "data": {
      "text/html": [
       "<div>\n",
       "<style scoped>\n",
       "    .dataframe tbody tr th:only-of-type {\n",
       "        vertical-align: middle;\n",
       "    }\n",
       "\n",
       "    .dataframe tbody tr th {\n",
       "        vertical-align: top;\n",
       "    }\n",
       "\n",
       "    .dataframe thead th {\n",
       "        text-align: right;\n",
       "    }\n",
       "</style>\n",
       "<table border=\"1\" class=\"dataframe\">\n",
       "  <thead>\n",
       "    <tr style=\"text-align: right;\">\n",
       "      <th></th>\n",
       "      <th>name</th>\n",
       "      <th>unit</th>\n",
       "      <th>average_daily_value</th>\n",
       "    </tr>\n",
       "  </thead>\n",
       "  <tbody>\n",
       "    <tr>\n",
       "      <th>0</th>\n",
       "      <td>Carbohydrates</td>\n",
       "      <td>g</td>\n",
       "      <td>300.342400</td>\n",
       "    </tr>\n",
       "    <tr>\n",
       "      <th>1</th>\n",
       "      <td>Niacin Equivalents</td>\n",
       "      <td>mg</td>\n",
       "      <td>12.706413</td>\n",
       "    </tr>\n",
       "    <tr>\n",
       "      <th>2</th>\n",
       "      <td>Dietary Fiber</td>\n",
       "      <td>g</td>\n",
       "      <td>24.048217</td>\n",
       "    </tr>\n",
       "    <tr>\n",
       "      <th>3</th>\n",
       "      <td>Thiamin</td>\n",
       "      <td>mg</td>\n",
       "      <td>1.099229</td>\n",
       "    </tr>\n",
       "    <tr>\n",
       "      <th>4</th>\n",
       "      <td>Vitamin A - IU</td>\n",
       "      <td>IU</td>\n",
       "      <td>4834.502500</td>\n",
       "    </tr>\n",
       "  </tbody>\n",
       "</table>\n",
       "</div>"
      ],
      "text/plain": [
       "                 name unit  average_daily_value\n",
       "0       Carbohydrates    g           300.342400\n",
       "1  Niacin Equivalents   mg            12.706413\n",
       "2       Dietary Fiber    g            24.048217\n",
       "3             Thiamin   mg             1.099229\n",
       "4      Vitamin A - IU   IU          4834.502500"
      ]
     },
     "execution_count": 181,
     "metadata": {},
     "output_type": "execute_result"
    }
   ],
   "source": [
    "nutritions_df = pd.read_csv(\"nutritions.csv\")\n",
    "nutritions_df.head()"
   ]
  },
  {
   "cell_type": "code",
   "execution_count": 42,
   "metadata": {},
   "outputs": [
    {
     "data": {
      "text/html": [
       "<div>\n",
       "<style scoped>\n",
       "    .dataframe tbody tr th:only-of-type {\n",
       "        vertical-align: middle;\n",
       "    }\n",
       "\n",
       "    .dataframe tbody tr th {\n",
       "        vertical-align: top;\n",
       "    }\n",
       "\n",
       "    .dataframe thead th {\n",
       "        text-align: right;\n",
       "    }\n",
       "</style>\n",
       "<table border=\"1\" class=\"dataframe\">\n",
       "  <thead>\n",
       "    <tr style=\"text-align: right;\">\n",
       "      <th></th>\n",
       "      <th>recipe_id</th>\n",
       "      <th>recipe_name</th>\n",
       "      <th>total_time</th>\n",
       "      <th>image</th>\n",
       "      <th>directions</th>\n",
       "      <th>ingredients</th>\n",
       "    </tr>\n",
       "  </thead>\n",
       "  <tbody>\n",
       "    <tr>\n",
       "      <th>0</th>\n",
       "      <td>240488</td>\n",
       "      <td>Pork Loin, Apples, and Sauerkraut</td>\n",
       "      <td>165</td>\n",
       "      <td>https://images.media-allrecipes.com/userphotos...</td>\n",
       "      <td>\"Prep\\n15 m\\nCook\\n2 h 30 m\\nReady In\\n2 h 45...</td>\n",
       "      <td>sauerkraut drained^Granny Smith apples sliced^...</td>\n",
       "    </tr>\n",
       "    <tr>\n",
       "      <th>1</th>\n",
       "      <td>218939</td>\n",
       "      <td>Foolproof Rosemary Chicken Wings</td>\n",
       "      <td>60</td>\n",
       "      <td>https://images.media-allrecipes.com/userphotos...</td>\n",
       "      <td>\"Prep\\n20 m\\nCook\\n40 m\\nReady In\\n1 h\\nPrehe...</td>\n",
       "      <td>chicken wings^sprigs rosemary^head garlic^oliv...</td>\n",
       "    </tr>\n",
       "    <tr>\n",
       "      <th>2</th>\n",
       "      <td>87211</td>\n",
       "      <td>Chicken Pesto Paninis</td>\n",
       "      <td>20</td>\n",
       "      <td>https://images.media-allrecipes.com/userphotos...</td>\n",
       "      <td>\"Prep\\n15 m\\nCook\\n5 m\\nReady In\\n20 m\\nPrehe...</td>\n",
       "      <td>focaccia bread quartered^prepared basil pesto^...</td>\n",
       "    </tr>\n",
       "    <tr>\n",
       "      <th>3</th>\n",
       "      <td>245714</td>\n",
       "      <td>Potato Bacon Pizza</td>\n",
       "      <td>70</td>\n",
       "      <td>https://images.media-allrecipes.com/userphotos...</td>\n",
       "      <td>\"Prep\\n20 m\\nCook\\n45 m\\nReady In\\n1 h 10 m\\n...</td>\n",
       "      <td>red potatoes^strips bacon^Sauce:^heavy whippin...</td>\n",
       "    </tr>\n",
       "    <tr>\n",
       "      <th>4</th>\n",
       "      <td>218545</td>\n",
       "      <td>Latin-Inspired Spicy Cream Chicken Stew</td>\n",
       "      <td>505</td>\n",
       "      <td>https://images.media-allrecipes.com/userphotos...</td>\n",
       "      <td>\"Prep\\n10 m\\nCook\\n8 h 15 m\\nReady In\\n8 h 25...</td>\n",
       "      <td>skinless boneless chicken breast halves^diced ...</td>\n",
       "    </tr>\n",
       "  </tbody>\n",
       "</table>\n",
       "</div>"
      ],
      "text/plain": [
       "   recipe_id                              recipe_name  total_time  \\\n",
       "0     240488        Pork Loin, Apples, and Sauerkraut         165   \n",
       "1     218939         Foolproof Rosemary Chicken Wings          60   \n",
       "2      87211                    Chicken Pesto Paninis          20   \n",
       "3     245714                       Potato Bacon Pizza          70   \n",
       "4     218545  Latin-Inspired Spicy Cream Chicken Stew         505   \n",
       "\n",
       "                                               image  \\\n",
       "0  https://images.media-allrecipes.com/userphotos...   \n",
       "1  https://images.media-allrecipes.com/userphotos...   \n",
       "2  https://images.media-allrecipes.com/userphotos...   \n",
       "3  https://images.media-allrecipes.com/userphotos...   \n",
       "4  https://images.media-allrecipes.com/userphotos...   \n",
       "\n",
       "                                          directions  \\\n",
       "0   \"Prep\\n15 m\\nCook\\n2 h 30 m\\nReady In\\n2 h 45...   \n",
       "1   \"Prep\\n20 m\\nCook\\n40 m\\nReady In\\n1 h\\nPrehe...   \n",
       "2   \"Prep\\n15 m\\nCook\\n5 m\\nReady In\\n20 m\\nPrehe...   \n",
       "3   \"Prep\\n20 m\\nCook\\n45 m\\nReady In\\n1 h 10 m\\n...   \n",
       "4   \"Prep\\n10 m\\nCook\\n8 h 15 m\\nReady In\\n8 h 25...   \n",
       "\n",
       "                                         ingredients  \n",
       "0  sauerkraut drained^Granny Smith apples sliced^...  \n",
       "1  chicken wings^sprigs rosemary^head garlic^oliv...  \n",
       "2  focaccia bread quartered^prepared basil pesto^...  \n",
       "3  red potatoes^strips bacon^Sauce:^heavy whippin...  \n",
       "4  skinless boneless chicken breast halves^diced ...  "
      ]
     },
     "execution_count": 42,
     "metadata": {},
     "output_type": "execute_result"
    }
   ],
   "source": [
    "recipes_df = pd.read_csv(\"recipes.csv\")\n",
    "recipes_df.head()\n"
   ]
  },
  {
   "cell_type": "code",
   "execution_count": 43,
   "metadata": {},
   "outputs": [
    {
     "data": {
      "text/html": [
       "<div>\n",
       "<style scoped>\n",
       "    .dataframe tbody tr th:only-of-type {\n",
       "        vertical-align: middle;\n",
       "    }\n",
       "\n",
       "    .dataframe tbody tr th {\n",
       "        vertical-align: top;\n",
       "    }\n",
       "\n",
       "    .dataframe thead th {\n",
       "        text-align: right;\n",
       "    }\n",
       "</style>\n",
       "<table border=\"1\" class=\"dataframe\">\n",
       "  <thead>\n",
       "    <tr style=\"text-align: right;\">\n",
       "      <th></th>\n",
       "      <th>recipe_id</th>\n",
       "      <th>nutrition_name</th>\n",
       "      <th>value</th>\n",
       "    </tr>\n",
       "  </thead>\n",
       "  <tbody>\n",
       "    <tr>\n",
       "      <th>0</th>\n",
       "      <td>240488</td>\n",
       "      <td>Vitamin C</td>\n",
       "      <td>52.768480</td>\n",
       "    </tr>\n",
       "    <tr>\n",
       "      <th>1</th>\n",
       "      <td>218939</td>\n",
       "      <td>Vitamin C</td>\n",
       "      <td>5.307448</td>\n",
       "    </tr>\n",
       "    <tr>\n",
       "      <th>2</th>\n",
       "      <td>87211</td>\n",
       "      <td>Vitamin C</td>\n",
       "      <td>18.015020</td>\n",
       "    </tr>\n",
       "    <tr>\n",
       "      <th>3</th>\n",
       "      <td>245714</td>\n",
       "      <td>Vitamin C</td>\n",
       "      <td>0.905797</td>\n",
       "    </tr>\n",
       "    <tr>\n",
       "      <th>4</th>\n",
       "      <td>218545</td>\n",
       "      <td>Vitamin C</td>\n",
       "      <td>14.064870</td>\n",
       "    </tr>\n",
       "  </tbody>\n",
       "</table>\n",
       "</div>"
      ],
      "text/plain": [
       "   recipe_id nutrition_name      value\n",
       "0     240488      Vitamin C  52.768480\n",
       "1     218939      Vitamin C   5.307448\n",
       "2      87211      Vitamin C  18.015020\n",
       "3     245714      Vitamin C   0.905797\n",
       "4     218545      Vitamin C  14.064870"
      ]
     },
     "execution_count": 43,
     "metadata": {},
     "output_type": "execute_result"
    }
   ],
   "source": [
    "contains_df = pd.read_csv(\"contains.csv\")\n",
    "contains_df.head()"
   ]
  },
  {
   "cell_type": "code",
   "execution_count": 46,
   "metadata": {},
   "outputs": [],
   "source": [
    "# validate that all recipe_ids in the contains table are in the recipes table\n",
    "assert set(contains_df[\"recipe_id\"].unique()) == set(recipes_df[\"recipe_id\"].unique())\n"
   ]
  },
  {
   "cell_type": "markdown",
   "metadata": {},
   "source": [
    "## 2.2. Create the rating table"
   ]
  },
  {
   "cell_type": "code",
   "execution_count": 47,
   "metadata": {},
   "outputs": [
    {
     "data": {
      "text/html": [
       "<div>\n",
       "<style scoped>\n",
       "    .dataframe tbody tr th:only-of-type {\n",
       "        vertical-align: middle;\n",
       "    }\n",
       "\n",
       "    .dataframe tbody tr th {\n",
       "        vertical-align: top;\n",
       "    }\n",
       "\n",
       "    .dataframe thead th {\n",
       "        text-align: right;\n",
       "    }\n",
       "</style>\n",
       "<table border=\"1\" class=\"dataframe\">\n",
       "  <thead>\n",
       "    <tr style=\"text-align: right;\">\n",
       "      <th></th>\n",
       "      <th>user_id</th>\n",
       "      <th>recipe_id</th>\n",
       "      <th>rating</th>\n",
       "      <th>dateLastModified</th>\n",
       "    </tr>\n",
       "  </thead>\n",
       "  <tbody>\n",
       "    <tr>\n",
       "      <th>0</th>\n",
       "      <td>8542392</td>\n",
       "      <td>222388</td>\n",
       "      <td>5</td>\n",
       "      <td>2017-04-22T12:46:43.663\\n</td>\n",
       "    </tr>\n",
       "    <tr>\n",
       "      <th>1</th>\n",
       "      <td>11174581</td>\n",
       "      <td>222388</td>\n",
       "      <td>5</td>\n",
       "      <td>2013-06-20T15:50:25.96\\n</td>\n",
       "    </tr>\n",
       "    <tr>\n",
       "      <th>2</th>\n",
       "      <td>8262477</td>\n",
       "      <td>222388</td>\n",
       "      <td>5</td>\n",
       "      <td>2015-02-14T07:27:51.307\\n</td>\n",
       "    </tr>\n",
       "    <tr>\n",
       "      <th>3</th>\n",
       "      <td>3574785</td>\n",
       "      <td>240488</td>\n",
       "      <td>5</td>\n",
       "      <td>2017-10-07T18:20:08.973\\n</td>\n",
       "    </tr>\n",
       "    <tr>\n",
       "      <th>4</th>\n",
       "      <td>12145410</td>\n",
       "      <td>240488</td>\n",
       "      <td>2</td>\n",
       "      <td>2018-01-06T00:06:09.563\\n</td>\n",
       "    </tr>\n",
       "  </tbody>\n",
       "</table>\n",
       "</div>"
      ],
      "text/plain": [
       "    user_id  recipe_id  rating           dateLastModified\n",
       "0   8542392     222388       5  2017-04-22T12:46:43.663\\n\n",
       "1  11174581     222388       5   2013-06-20T15:50:25.96\\n\n",
       "2   8262477     222388       5  2015-02-14T07:27:51.307\\n\n",
       "3   3574785     240488       5  2017-10-07T18:20:08.973\\n\n",
       "4  12145410     240488       2  2018-01-06T00:06:09.563\\n"
      ]
     },
     "execution_count": 47,
     "metadata": {},
     "output_type": "execute_result"
    }
   ],
   "source": [
    "interactions_df = pd.read_csv(\"raw-data_interaction.csv\")\n",
    "interactions_df.head()"
   ]
  },
  {
   "cell_type": "code",
   "execution_count": 48,
   "metadata": {},
   "outputs": [
    {
     "name": "stdout",
     "output_type": "stream",
     "text": [
      "Some recipe_ids are not in the recipes table\n",
      "Some user_ids are not in the users table\n"
     ]
    }
   ],
   "source": [
    "# validate all recipe_ids and user_ids are in the recipes and users tables\n",
    "if not set(interactions_df[\"recipe_id\"].unique()) == set(recipes_df[\"recipe_id\"].unique()):\n",
    "    print(\"Some recipe_ids are not in the recipes table\")\n",
    "    interactions_df = interactions_df[interactions_df[\"recipe_id\"].isin(recipes_df[\"recipe_id\"])]\n",
    "if not set(interactions_df[\"user_id\"].unique()) == set(user_df[\"user_id\"].unique()):\n",
    "    print(\"Some user_ids are not in the users table\")\n",
    "    interactions_df = interactions_df[interactions_df[\"user_id\"].isin(user_df[\"user_id\"])]"
   ]
  },
  {
   "cell_type": "code",
   "execution_count": 49,
   "metadata": {},
   "outputs": [
    {
     "data": {
      "text/plain": [
       "count                          3781403\n",
       "mean     2010-10-18 15:45:04.105940480\n",
       "min         2000-02-07 21:06:30.137000\n",
       "25%         2008-02-23 13:32:01.780000\n",
       "50%      2010-10-22 11:18:20.049999872\n",
       "75%      2013-12-17 15:44:19.816499968\n",
       "max         2018-03-16 07:19:52.260000\n",
       "Name: datetime, dtype: object"
      ]
     },
     "execution_count": 49,
     "metadata": {},
     "output_type": "execute_result"
    }
   ],
   "source": [
    "interactions_df[\"datetime\"] = pd.to_datetime(interactions_df[\"dateLastModified\"].str[:-1], format=\"mixed\")\n",
    "interactions_df[\"datetime\"].describe()"
   ]
  },
  {
   "cell_type": "code",
   "execution_count": 50,
   "metadata": {},
   "outputs": [
    {
     "data": {
      "text/plain": [
       "count                          3781403\n",
       "mean     2017-07-30 20:26:34.349565440\n",
       "min         2006-11-20 01:48:00.380625\n",
       "25%      2014-12-05 18:13:32.023624960\n",
       "50%      2017-08-03 15:59:50.293625088\n",
       "75%      2020-09-28 20:25:50.060124928\n",
       "max         2024-12-26 12:01:22.503625\n",
       "Name: datetime, dtype: object"
      ]
     },
     "execution_count": 50,
     "metadata": {},
     "output_type": "execute_result"
    }
   ],
   "source": [
    "# Let's move the dates forward, so the last modified date is today\n",
    "offset = pd.to_datetime(\"today\") - interactions_df[\"datetime\"].max()\n",
    "interactions_df[\"datetime\"] = interactions_df[\"datetime\"] + offset\n",
    "interactions_df[\"datetime\"].describe()"
   ]
  },
  {
   "cell_type": "code",
   "execution_count": 51,
   "metadata": {},
   "outputs": [],
   "source": [
    "interactions_df = interactions_df.drop(columns=[\"dateLastModified\"])\n",
    "interactions_df.rename(\n",
    "    columns={\n",
    "        \"datetime\": \"created_at\",\n",
    "    },\n",
    "    inplace=True,\n",
    ")\n",
    "interactions_df.to_csv(\"rating.csv\", index=False)"
   ]
  },
  {
   "cell_type": "code",
   "execution_count": 52,
   "metadata": {},
   "outputs": [
    {
     "data": {
      "text/html": [
       "<div>\n",
       "<style scoped>\n",
       "    .dataframe tbody tr th:only-of-type {\n",
       "        vertical-align: middle;\n",
       "    }\n",
       "\n",
       "    .dataframe tbody tr th {\n",
       "        vertical-align: top;\n",
       "    }\n",
       "\n",
       "    .dataframe thead th {\n",
       "        text-align: right;\n",
       "    }\n",
       "</style>\n",
       "<table border=\"1\" class=\"dataframe\">\n",
       "  <thead>\n",
       "    <tr style=\"text-align: right;\">\n",
       "      <th></th>\n",
       "      <th>user_id</th>\n",
       "      <th>recipe_id</th>\n",
       "      <th>rating</th>\n",
       "      <th>created_at</th>\n",
       "    </tr>\n",
       "  </thead>\n",
       "  <tbody>\n",
       "    <tr>\n",
       "      <th>0</th>\n",
       "      <td>3574785</td>\n",
       "      <td>240488</td>\n",
       "      <td>5</td>\n",
       "      <td>2024-07-19 23:01:39.216625</td>\n",
       "    </tr>\n",
       "    <tr>\n",
       "      <th>1</th>\n",
       "      <td>12145410</td>\n",
       "      <td>240488</td>\n",
       "      <td>2</td>\n",
       "      <td>2024-10-18 04:47:39.806625</td>\n",
       "    </tr>\n",
       "    <tr>\n",
       "      <th>2</th>\n",
       "      <td>13549066</td>\n",
       "      <td>240488</td>\n",
       "      <td>5</td>\n",
       "      <td>2023-07-17 23:24:11.950625</td>\n",
       "    </tr>\n",
       "    <tr>\n",
       "      <th>3</th>\n",
       "      <td>3450379</td>\n",
       "      <td>240488</td>\n",
       "      <td>5</td>\n",
       "      <td>2022-07-30 17:11:07.840625</td>\n",
       "    </tr>\n",
       "    <tr>\n",
       "      <th>4</th>\n",
       "      <td>9823884</td>\n",
       "      <td>240488</td>\n",
       "      <td>5</td>\n",
       "      <td>2024-10-20 06:40:46.513625</td>\n",
       "    </tr>\n",
       "  </tbody>\n",
       "</table>\n",
       "</div>"
      ],
      "text/plain": [
       "    user_id  recipe_id  rating                  created_at\n",
       "0   3574785     240488       5  2024-07-19 23:01:39.216625\n",
       "1  12145410     240488       2  2024-10-18 04:47:39.806625\n",
       "2  13549066     240488       5  2023-07-17 23:24:11.950625\n",
       "3   3450379     240488       5  2022-07-30 17:11:07.840625\n",
       "4   9823884     240488       5  2024-10-20 06:40:46.513625"
      ]
     },
     "execution_count": 52,
     "metadata": {},
     "output_type": "execute_result"
    }
   ],
   "source": [
    "rating_df = pd.read_csv(\"rating.csv\")\n",
    "del interactions_df\n",
    "rating_df.head()"
   ]
  },
  {
   "cell_type": "markdown",
   "metadata": {},
   "source": [
    "## 2.3. Create the diet table\n"
   ]
  },
  {
   "cell_type": "code",
   "execution_count": 147,
   "metadata": {},
   "outputs": [],
   "source": [
    "diets_keywords = {\n",
    "    \"vegan\": [\n",
    "        \"chicken\",\n",
    "        \"beef\",\n",
    "        \"meat\",\n",
    "        \"egg\",\n",
    "        \"milk\",\n",
    "        \"cheese\",\n",
    "        \"yogurt\",\n",
    "        \"cream\",\n",
    "        \"butter\",\n",
    "        \"fish\",\n",
    "        \"seafood\",\n",
    "        \"honey\",\n",
    "        \"fish\",\n",
    "        \"seafood\",\n",
    "        \"gelatin\",\n",
    "        \"lard\",\n",
    "        \"bacon\",\n",
    "        \"pork\",\n",
    "        \"ham\",\n",
    "    ],\n",
    "    \"vegetarian\": [\n",
    "        \"chicken\",\n",
    "        \"beef\",\n",
    "        \"meat\",\n",
    "        \"fish\",\n",
    "        \"seafood\",\n",
    "        \"gelatin\",\n",
    "        \"lard\",\n",
    "        \"bacon\",\n",
    "        \"pork\",\n",
    "        \"ham\",\n",
    "    ],\n",
    "    \"gluten_free\": [\n",
    "        \"wheat\",\n",
    "        \"flour\",\n",
    "        \"bread\",\n",
    "        \"pasta\",\n",
    "        \"barley\",\n",
    "        \"rye\",\n",
    "        \"oats\",\n",
    "        \"breadcrumbs\",\n",
    "        \"soy sauce\",\n",
    "    ],\n",
    "    \"dairy_free\": [\n",
    "        \"milk\",\n",
    "        \"cheese\",\n",
    "        \"yogurt\",\n",
    "        \"cream\",\n",
    "        \"butter\",\n",
    "        \"whey\",\n",
    "        \"casein\",\n",
    "    ],\n",
    "    \"nut_allergy\": [\n",
    "        \"peanuts\",\n",
    "        \"almonds\",\n",
    "        \"cashews\",\n",
    "        \"walnuts\",\n",
    "        \"pecans\",\n",
    "        \"pistachios\",\n",
    "        \"hazelnuts\",\n",
    "        \"macadamia\",\n",
    "        \"pine nuts\",\n",
    "    ],\n",
    "    \"shellfish_allergy\": [\n",
    "        \"shrimp\",\n",
    "        \"crab\",\n",
    "        \"lobster\",\n",
    "        \"clams\",\n",
    "        \"mussels\",\n",
    "        \"oysters\",\n",
    "        \"scallops\",\n",
    "        \"crawfish\",\n",
    "    ],\n",
    "    \"egg_allergy\": [\"egg\", \"mayonnaise\", \"meringue\", \"custard\", \"hollandaise\", \"aioli\"],\n",
    "}"
   ]
  },
  {
   "cell_type": "code",
   "execution_count": 175,
   "metadata": {},
   "outputs": [
    {
     "data": {
      "text/html": [
       "<div>\n",
       "<style scoped>\n",
       "    .dataframe tbody tr th:only-of-type {\n",
       "        vertical-align: middle;\n",
       "    }\n",
       "\n",
       "    .dataframe tbody tr th {\n",
       "        vertical-align: top;\n",
       "    }\n",
       "\n",
       "    .dataframe thead th {\n",
       "        text-align: right;\n",
       "    }\n",
       "</style>\n",
       "<table border=\"1\" class=\"dataframe\">\n",
       "  <thead>\n",
       "    <tr style=\"text-align: right;\">\n",
       "      <th></th>\n",
       "      <th>diet_id</th>\n",
       "      <th>name</th>\n",
       "      <th>keywords</th>\n",
       "    </tr>\n",
       "  </thead>\n",
       "  <tbody>\n",
       "    <tr>\n",
       "      <th>0</th>\n",
       "      <td>1</td>\n",
       "      <td>vegan</td>\n",
       "      <td>[chicken, beef, meat, egg, milk, cheese, yogur...</td>\n",
       "    </tr>\n",
       "    <tr>\n",
       "      <th>1</th>\n",
       "      <td>2</td>\n",
       "      <td>vegetarian</td>\n",
       "      <td>[chicken, beef, meat, fish, seafood, gelatin, ...</td>\n",
       "    </tr>\n",
       "    <tr>\n",
       "      <th>2</th>\n",
       "      <td>3</td>\n",
       "      <td>gluten_free</td>\n",
       "      <td>[wheat, flour, bread, pasta, barley, rye, oats...</td>\n",
       "    </tr>\n",
       "    <tr>\n",
       "      <th>3</th>\n",
       "      <td>4</td>\n",
       "      <td>dairy_free</td>\n",
       "      <td>[milk, cheese, yogurt, cream, butter, whey, ca...</td>\n",
       "    </tr>\n",
       "    <tr>\n",
       "      <th>4</th>\n",
       "      <td>5</td>\n",
       "      <td>nut_allergy</td>\n",
       "      <td>[peanuts, almonds, cashews, walnuts, pecans, p...</td>\n",
       "    </tr>\n",
       "  </tbody>\n",
       "</table>\n",
       "</div>"
      ],
      "text/plain": [
       "   diet_id         name                                           keywords\n",
       "0        1        vegan  [chicken, beef, meat, egg, milk, cheese, yogur...\n",
       "1        2   vegetarian  [chicken, beef, meat, fish, seafood, gelatin, ...\n",
       "2        3  gluten_free  [wheat, flour, bread, pasta, barley, rye, oats...\n",
       "3        4   dairy_free  [milk, cheese, yogurt, cream, butter, whey, ca...\n",
       "4        5  nut_allergy  [peanuts, almonds, cashews, walnuts, pecans, p..."
      ]
     },
     "execution_count": 175,
     "metadata": {},
     "output_type": "execute_result"
    }
   ],
   "source": [
    "diet_df = pd.DataFrame()\n",
    "diet_df[\"name\"] = diets_keywords.keys()\n",
    "diet_df[\"keywords\"] = diets_keywords.values()\n",
    "diet_df[\"keywords\"] = diet_df[\"keywords\"].apply(lambda x: json.dumps(x))\n",
    "diet_df = diet_df.reset_index().rename(columns={\"index\": \"diet_id\"})\n",
    "diet_df[\"diet_id\"] = diet_df[\"diet_id\"] + 1\n",
    "diet_df.to_csv(\"diet.csv\", index=False)\n",
    "diet_df = pd.read_csv(\"diet.csv\")\n",
    "diet_df[\"keywords\"] = diet_df[\"keywords\"].apply(json.loads)\n",
    "diet_df.head()\n"
   ]
  },
  {
   "cell_type": "markdown",
   "metadata": {},
   "source": [
    "## 2.4. Create the fits table\n"
   ]
  },
  {
   "cell_type": "code",
   "execution_count": 55,
   "metadata": {},
   "outputs": [
    {
     "data": {
      "text/html": [
       "<div>\n",
       "<style scoped>\n",
       "    .dataframe tbody tr th:only-of-type {\n",
       "        vertical-align: middle;\n",
       "    }\n",
       "\n",
       "    .dataframe tbody tr th {\n",
       "        vertical-align: top;\n",
       "    }\n",
       "\n",
       "    .dataframe thead th {\n",
       "        text-align: right;\n",
       "    }\n",
       "</style>\n",
       "<table border=\"1\" class=\"dataframe\">\n",
       "  <thead>\n",
       "    <tr style=\"text-align: right;\">\n",
       "      <th></th>\n",
       "      <th>recipe_id</th>\n",
       "      <th>recipe_name</th>\n",
       "      <th>total_time</th>\n",
       "      <th>image</th>\n",
       "      <th>directions</th>\n",
       "      <th>ingredients</th>\n",
       "    </tr>\n",
       "  </thead>\n",
       "  <tbody>\n",
       "    <tr>\n",
       "      <th>0</th>\n",
       "      <td>240488</td>\n",
       "      <td>Pork Loin, Apples, and Sauerkraut</td>\n",
       "      <td>165</td>\n",
       "      <td>https://images.media-allrecipes.com/userphotos...</td>\n",
       "      <td>\"Prep\\n15 m\\nCook\\n2 h 30 m\\nReady In\\n2 h 45...</td>\n",
       "      <td>sauerkraut drained^Granny Smith apples sliced^...</td>\n",
       "    </tr>\n",
       "    <tr>\n",
       "      <th>1</th>\n",
       "      <td>218939</td>\n",
       "      <td>Foolproof Rosemary Chicken Wings</td>\n",
       "      <td>60</td>\n",
       "      <td>https://images.media-allrecipes.com/userphotos...</td>\n",
       "      <td>\"Prep\\n20 m\\nCook\\n40 m\\nReady In\\n1 h\\nPrehe...</td>\n",
       "      <td>chicken wings^sprigs rosemary^head garlic^oliv...</td>\n",
       "    </tr>\n",
       "    <tr>\n",
       "      <th>2</th>\n",
       "      <td>87211</td>\n",
       "      <td>Chicken Pesto Paninis</td>\n",
       "      <td>20</td>\n",
       "      <td>https://images.media-allrecipes.com/userphotos...</td>\n",
       "      <td>\"Prep\\n15 m\\nCook\\n5 m\\nReady In\\n20 m\\nPrehe...</td>\n",
       "      <td>focaccia bread quartered^prepared basil pesto^...</td>\n",
       "    </tr>\n",
       "    <tr>\n",
       "      <th>3</th>\n",
       "      <td>245714</td>\n",
       "      <td>Potato Bacon Pizza</td>\n",
       "      <td>70</td>\n",
       "      <td>https://images.media-allrecipes.com/userphotos...</td>\n",
       "      <td>\"Prep\\n20 m\\nCook\\n45 m\\nReady In\\n1 h 10 m\\n...</td>\n",
       "      <td>red potatoes^strips bacon^Sauce:^heavy whippin...</td>\n",
       "    </tr>\n",
       "    <tr>\n",
       "      <th>4</th>\n",
       "      <td>218545</td>\n",
       "      <td>Latin-Inspired Spicy Cream Chicken Stew</td>\n",
       "      <td>505</td>\n",
       "      <td>https://images.media-allrecipes.com/userphotos...</td>\n",
       "      <td>\"Prep\\n10 m\\nCook\\n8 h 15 m\\nReady In\\n8 h 25...</td>\n",
       "      <td>skinless boneless chicken breast halves^diced ...</td>\n",
       "    </tr>\n",
       "  </tbody>\n",
       "</table>\n",
       "</div>"
      ],
      "text/plain": [
       "   recipe_id                              recipe_name  total_time  \\\n",
       "0     240488        Pork Loin, Apples, and Sauerkraut         165   \n",
       "1     218939         Foolproof Rosemary Chicken Wings          60   \n",
       "2      87211                    Chicken Pesto Paninis          20   \n",
       "3     245714                       Potato Bacon Pizza          70   \n",
       "4     218545  Latin-Inspired Spicy Cream Chicken Stew         505   \n",
       "\n",
       "                                               image  \\\n",
       "0  https://images.media-allrecipes.com/userphotos...   \n",
       "1  https://images.media-allrecipes.com/userphotos...   \n",
       "2  https://images.media-allrecipes.com/userphotos...   \n",
       "3  https://images.media-allrecipes.com/userphotos...   \n",
       "4  https://images.media-allrecipes.com/userphotos...   \n",
       "\n",
       "                                          directions  \\\n",
       "0   \"Prep\\n15 m\\nCook\\n2 h 30 m\\nReady In\\n2 h 45...   \n",
       "1   \"Prep\\n20 m\\nCook\\n40 m\\nReady In\\n1 h\\nPrehe...   \n",
       "2   \"Prep\\n15 m\\nCook\\n5 m\\nReady In\\n20 m\\nPrehe...   \n",
       "3   \"Prep\\n20 m\\nCook\\n45 m\\nReady In\\n1 h 10 m\\n...   \n",
       "4   \"Prep\\n10 m\\nCook\\n8 h 15 m\\nReady In\\n8 h 25...   \n",
       "\n",
       "                                         ingredients  \n",
       "0  sauerkraut drained^Granny Smith apples sliced^...  \n",
       "1  chicken wings^sprigs rosemary^head garlic^oliv...  \n",
       "2  focaccia bread quartered^prepared basil pesto^...  \n",
       "3  red potatoes^strips bacon^Sauce:^heavy whippin...  \n",
       "4  skinless boneless chicken breast halves^diced ...  "
      ]
     },
     "execution_count": 55,
     "metadata": {},
     "output_type": "execute_result"
    }
   ],
   "source": [
    "recipes_df.head()"
   ]
  },
  {
   "cell_type": "code",
   "execution_count": 59,
   "metadata": {},
   "outputs": [
    {
     "data": {
      "text/html": [
       "<div>\n",
       "<style scoped>\n",
       "    .dataframe tbody tr th:only-of-type {\n",
       "        vertical-align: middle;\n",
       "    }\n",
       "\n",
       "    .dataframe tbody tr th {\n",
       "        vertical-align: top;\n",
       "    }\n",
       "\n",
       "    .dataframe thead th {\n",
       "        text-align: right;\n",
       "    }\n",
       "</style>\n",
       "<table border=\"1\" class=\"dataframe\">\n",
       "  <thead>\n",
       "    <tr style=\"text-align: right;\">\n",
       "      <th></th>\n",
       "      <th>recipe_id</th>\n",
       "      <th>diet_id</th>\n",
       "    </tr>\n",
       "  </thead>\n",
       "  <tbody>\n",
       "    <tr>\n",
       "      <th>0</th>\n",
       "      <td>240418</td>\n",
       "      <td>5</td>\n",
       "    </tr>\n",
       "    <tr>\n",
       "      <th>1</th>\n",
       "      <td>240022</td>\n",
       "      <td>5</td>\n",
       "    </tr>\n",
       "    <tr>\n",
       "      <th>2</th>\n",
       "      <td>19484</td>\n",
       "      <td>0</td>\n",
       "    </tr>\n",
       "    <tr>\n",
       "      <th>3</th>\n",
       "      <td>17106</td>\n",
       "      <td>4</td>\n",
       "    </tr>\n",
       "    <tr>\n",
       "      <th>4</th>\n",
       "      <td>254947</td>\n",
       "      <td>1</td>\n",
       "    </tr>\n",
       "  </tbody>\n",
       "</table>\n",
       "</div>"
      ],
      "text/plain": [
       "   recipe_id  diet_id\n",
       "0     240418        5\n",
       "1     240022        5\n",
       "2      19484        0\n",
       "3      17106        4\n",
       "4     254947        1"
      ]
     },
     "execution_count": 59,
     "metadata": {},
     "output_type": "execute_result"
    }
   ],
   "source": [
    "recipe_diets = set()\n",
    "for recipe_id, ingredients in zip(recipes_df[\"recipe_id\"], recipes_df[\"ingredients\"]):\n",
    "    for i, (diet_id, diet_name, keywords) in diet_df.iterrows():\n",
    "        if any(keyword in ingredients for keyword in ast.literal_eval(keywords)):\n",
    "            continue\n",
    "        recipe_diets.add((recipe_id, diet_id))\n",
    "fits_df = pd.DataFrame(recipe_diets, columns=[\"recipe_id\", \"diet_id\"])\n",
    "fits_df.to_csv(\"fits.csv\", index=False)\n",
    "fits_df = pd.read_csv(\"fits.csv\")\n",
    "fits_df.head()\n"
   ]
  },
  {
   "cell_type": "markdown",
   "metadata": {},
   "source": [
    "## 2.5. Create the eats table\n",
    "\n",
    "This table will be created by joining the rating table and the users table.\n",
    "we'll set an assumption that every user rate 20-60% of the recipes he/she has seen.\n",
    "\n",
    "So we have two steps:\n",
    "1. Randomly select 20-60% of the recipes for each user\n",
    "2. Create the eats table by joining the rating table and the users table\n",
    "\n",
    "The eats table will have the following columns:\n",
    "- user_id\n",
    "- recipe_id\n",
    "- created_at"
   ]
  },
  {
   "cell_type": "code",
   "execution_count": 61,
   "metadata": {},
   "outputs": [
    {
     "data": {
      "text/html": [
       "<div>\n",
       "<style scoped>\n",
       "    .dataframe tbody tr th:only-of-type {\n",
       "        vertical-align: middle;\n",
       "    }\n",
       "\n",
       "    .dataframe tbody tr th {\n",
       "        vertical-align: top;\n",
       "    }\n",
       "\n",
       "    .dataframe thead th {\n",
       "        text-align: right;\n",
       "    }\n",
       "</style>\n",
       "<table border=\"1\" class=\"dataframe\">\n",
       "  <thead>\n",
       "    <tr style=\"text-align: right;\">\n",
       "      <th></th>\n",
       "      <th>user_id</th>\n",
       "      <th>recipe_id</th>\n",
       "      <th>created_at</th>\n",
       "    </tr>\n",
       "  </thead>\n",
       "  <tbody>\n",
       "    <tr>\n",
       "      <th>0</th>\n",
       "      <td>3574785</td>\n",
       "      <td>240488</td>\n",
       "      <td>2024-07-19 21:01:39.216625</td>\n",
       "    </tr>\n",
       "    <tr>\n",
       "      <th>1</th>\n",
       "      <td>12145410</td>\n",
       "      <td>240488</td>\n",
       "      <td>2024-10-18 02:47:39.806625</td>\n",
       "    </tr>\n",
       "    <tr>\n",
       "      <th>2</th>\n",
       "      <td>13549066</td>\n",
       "      <td>240488</td>\n",
       "      <td>2023-07-17 21:24:11.950625</td>\n",
       "    </tr>\n",
       "    <tr>\n",
       "      <th>3</th>\n",
       "      <td>3450379</td>\n",
       "      <td>240488</td>\n",
       "      <td>2022-07-30 15:11:07.840625</td>\n",
       "    </tr>\n",
       "    <tr>\n",
       "      <th>4</th>\n",
       "      <td>9823884</td>\n",
       "      <td>240488</td>\n",
       "      <td>2024-10-20 04:40:46.513625</td>\n",
       "    </tr>\n",
       "  </tbody>\n",
       "</table>\n",
       "</div>"
      ],
      "text/plain": [
       "    user_id  recipe_id                  created_at\n",
       "0   3574785     240488  2024-07-19 21:01:39.216625\n",
       "1  12145410     240488  2024-10-18 02:47:39.806625\n",
       "2  13549066     240488  2023-07-17 21:24:11.950625\n",
       "3   3450379     240488  2022-07-30 15:11:07.840625\n",
       "4   9823884     240488  2024-10-20 04:40:46.513625"
      ]
     },
     "execution_count": 61,
     "metadata": {},
     "output_type": "execute_result"
    }
   ],
   "source": [
    "# the east table based on the rating table and the users table\n",
    "# if the user has rated the recipe, he/she has eaten it ~2-3 hours before the rating\n",
    "\n",
    "eats_df = rating_df.copy()\n",
    "eats_df[\"created_at\"] = pd.to_datetime(eats_df[\"created_at\"]) - pd.Timedelta(hours=2)\n",
    "eats_df.drop(columns=[\"rating\"], inplace=True)\n",
    "eats_df.to_csv(\"eats.csv\", index=False)\n",
    "eats_df = pd.read_csv(\"eats.csv\")\n",
    "eats_df.head()\n"
   ]
  },
  {
   "cell_type": "code",
   "execution_count": 62,
   "metadata": {},
   "outputs": [],
   "source": [
    "# now, for each recipe, we will sample between 1-5 different recipes that the user has eaten\n",
    "from tqdm import tqdm\n",
    "import numpy as np\n",
    "\n",
    "# Get all unique users and recipes once\n",
    "unique_users = eats_df[\"user_id\"].unique()\n",
    "all_recipes = np.array(list(recipes_df[\"recipe_id\"].unique()))\n",
    "\n",
    "# Create mapping of user_id to recipes eaten for faster lookup\n",
    "user_recipes_map = eats_df.groupby(\"user_id\")[\"recipe_id\"].apply(set).to_dict()\n",
    "\n",
    "# Create mapping of user_id to creation date for faster lookup\n",
    "user_created_map = user_df.set_index(\"user_id\")[\"created_at\"].to_dict()\n",
    "\n",
    "# Pre-calculate now timestamp\n",
    "now = pd.Timestamp.now().timestamp()"
   ]
  },
  {
   "cell_type": "code",
   "execution_count": 63,
   "metadata": {},
   "outputs": [
    {
     "name": "stderr",
     "output_type": "stream",
     "text": [
      "Processing users: 100%|██████████| 1155839/1155839 [2:05:09<00:00, 153.92it/s] \n"
     ]
    }
   ],
   "source": [
    "# Pre-allocate list with estimated size\n",
    "n_users = len(unique_users)\n",
    "additional_eats_size = n_users * 3  # Average of 3 new recipes per user\n",
    "additional_eats = []\n",
    "\n",
    "# Convert to numpy arrays for faster operations\n",
    "all_recipes_set = set(all_recipes)\n",
    "now_ts = now\n",
    "\n",
    "# For each user with progress bar\n",
    "for user_id in tqdm(unique_users, desc=\"Processing users\"):\n",
    "    # Get recipes this user has already eaten from map\n",
    "    user_recipes = user_recipes_map.get(user_id, set())\n",
    "    \n",
    "    # Get available recipes using set difference (faster than np.isin)\n",
    "    available_recipes = list(all_recipes_set - user_recipes)\n",
    "    \n",
    "    if available_recipes:\n",
    "        # Sample 1-5 new recipes for this user to eat\n",
    "        n_new_recipes = min(np.random.randint(1, 6), len(available_recipes))\n",
    "        new_recipes = np.random.choice(available_recipes, size=n_new_recipes, replace=False)\n",
    "        \n",
    "        # Get user creation time from map and convert to timestamp\n",
    "        user_created = pd.to_datetime(user_created_map[user_id]).timestamp()\n",
    "        \n",
    "        # Generate timestamps\n",
    "        timestamps = np.random.uniform(user_created, now_ts, size=n_new_recipes)\n",
    "        \n",
    "        # Extend list with new records\n",
    "        additional_eats.extend({\n",
    "            \"user_id\": user_id,\n",
    "            \"recipe_id\": recipe_id,\n",
    "            \"created_at\": pd.Timestamp.fromtimestamp(ts)\n",
    "        } for recipe_id, ts in zip(new_recipes, timestamps))\n",
    "\n",
    "# Create DataFrame from list of dicts\n",
    "additional_eats_df = pd.DataFrame(additional_eats)\n",
    "\n",
    "# Combine with existing data and sort\n",
    "eats_df = pd.concat([eats_df, additional_eats_df], ignore_index=True)\n",
    "eats_df.sort_values([\"user_id\", \"created_at\"], inplace=True)\n",
    "\n",
    "# Save updated eats table\n",
    "eats_df.to_csv(\"eats.csv\", index=False)"
   ]
  },
  {
   "cell_type": "code",
   "execution_count": 64,
   "metadata": {},
   "outputs": [
    {
     "name": "stdout",
     "output_type": "stream",
     "text": [
      "(7248418, 3)\n"
     ]
    },
    {
     "data": {
      "text/html": [
       "<div>\n",
       "<style scoped>\n",
       "    .dataframe tbody tr th:only-of-type {\n",
       "        vertical-align: middle;\n",
       "    }\n",
       "\n",
       "    .dataframe tbody tr th {\n",
       "        vertical-align: top;\n",
       "    }\n",
       "\n",
       "    .dataframe thead th {\n",
       "        text-align: right;\n",
       "    }\n",
       "</style>\n",
       "<table border=\"1\" class=\"dataframe\">\n",
       "  <thead>\n",
       "    <tr style=\"text-align: right;\">\n",
       "      <th></th>\n",
       "      <th>user_id</th>\n",
       "      <th>recipe_id</th>\n",
       "      <th>created_at</th>\n",
       "    </tr>\n",
       "  </thead>\n",
       "  <tbody>\n",
       "    <tr>\n",
       "      <th>4379153</th>\n",
       "      <td>16</td>\n",
       "      <td>23934</td>\n",
       "      <td>2013-07-11 00:26:22.453177</td>\n",
       "    </tr>\n",
       "    <tr>\n",
       "      <th>1720771</th>\n",
       "      <td>16</td>\n",
       "      <td>7375</td>\n",
       "      <td>2006-12-07 18:07:36.776625</td>\n",
       "    </tr>\n",
       "    <tr>\n",
       "      <th>1598973</th>\n",
       "      <td>16</td>\n",
       "      <td>8070</td>\n",
       "      <td>2006-12-22 12:54:53.133625</td>\n",
       "    </tr>\n",
       "    <tr>\n",
       "      <th>1140893</th>\n",
       "      <td>16</td>\n",
       "      <td>8887</td>\n",
       "      <td>2007-03-01 12:27:06.826625</td>\n",
       "    </tr>\n",
       "    <tr>\n",
       "      <th>3207175</th>\n",
       "      <td>16</td>\n",
       "      <td>11763</td>\n",
       "      <td>2008-02-24 19:42:17.146625</td>\n",
       "    </tr>\n",
       "  </tbody>\n",
       "</table>\n",
       "</div>"
      ],
      "text/plain": [
       "         user_id  recipe_id                  created_at\n",
       "4379153       16      23934  2013-07-11 00:26:22.453177\n",
       "1720771       16       7375  2006-12-07 18:07:36.776625\n",
       "1598973       16       8070  2006-12-22 12:54:53.133625\n",
       "1140893       16       8887  2007-03-01 12:27:06.826625\n",
       "3207175       16      11763  2008-02-24 19:42:17.146625"
      ]
     },
     "execution_count": 64,
     "metadata": {},
     "output_type": "execute_result"
    }
   ],
   "source": [
    "print(eats_df.shape)\n",
    "eats_df.head()"
   ]
  },
  {
   "cell_type": "code",
   "execution_count": 66,
   "metadata": {},
   "outputs": [],
   "source": [
    "# validate that all recipe_ids in the eats table are in the recipes table\n",
    "assert eats_df[\"recipe_id\"].isin(set(recipes_df[\"recipe_id\"].unique())).all()\n",
    "# validate that all user_ids in the eats table are in the users table\n",
    "assert eats_df[\"user_id\"].isin(set(user_df[\"user_id\"].unique())).all()\n"
   ]
  },
  {
   "cell_type": "markdown",
   "metadata": {},
   "source": [
    "## 2.6. Create the follows table  \n",
    "\n",
    "This table is the many-to-many relationship between users and diets.  \n",
    "We'll populate this table by reviewing all the recipes that each user has eaten and then checking if the recipe fits any of the diets.\n"
   ]
  },
  {
   "cell_type": "code",
   "execution_count": 67,
   "metadata": {},
   "outputs": [
    {
     "data": {
      "text/html": [
       "<div>\n",
       "<style scoped>\n",
       "    .dataframe tbody tr th:only-of-type {\n",
       "        vertical-align: middle;\n",
       "    }\n",
       "\n",
       "    .dataframe tbody tr th {\n",
       "        vertical-align: top;\n",
       "    }\n",
       "\n",
       "    .dataframe thead th {\n",
       "        text-align: right;\n",
       "    }\n",
       "</style>\n",
       "<table border=\"1\" class=\"dataframe\">\n",
       "  <thead>\n",
       "    <tr style=\"text-align: right;\">\n",
       "      <th></th>\n",
       "      <th>recipe_id</th>\n",
       "      <th>diet_id</th>\n",
       "    </tr>\n",
       "  </thead>\n",
       "  <tbody>\n",
       "    <tr>\n",
       "      <th>0</th>\n",
       "      <td>240418</td>\n",
       "      <td>5</td>\n",
       "    </tr>\n",
       "    <tr>\n",
       "      <th>1</th>\n",
       "      <td>240022</td>\n",
       "      <td>5</td>\n",
       "    </tr>\n",
       "    <tr>\n",
       "      <th>2</th>\n",
       "      <td>19484</td>\n",
       "      <td>0</td>\n",
       "    </tr>\n",
       "    <tr>\n",
       "      <th>3</th>\n",
       "      <td>17106</td>\n",
       "      <td>4</td>\n",
       "    </tr>\n",
       "    <tr>\n",
       "      <th>4</th>\n",
       "      <td>254947</td>\n",
       "      <td>1</td>\n",
       "    </tr>\n",
       "  </tbody>\n",
       "</table>\n",
       "</div>"
      ],
      "text/plain": [
       "   recipe_id  diet_id\n",
       "0     240418        5\n",
       "1     240022        5\n",
       "2      19484        0\n",
       "3      17106        4\n",
       "4     254947        1"
      ]
     },
     "execution_count": 67,
     "metadata": {},
     "output_type": "execute_result"
    }
   ],
   "source": [
    "fits_df.head()"
   ]
  },
  {
   "cell_type": "code",
   "execution_count": 68,
   "metadata": {},
   "outputs": [
    {
     "data": {
      "text/html": [
       "<div>\n",
       "<style scoped>\n",
       "    .dataframe tbody tr th:only-of-type {\n",
       "        vertical-align: middle;\n",
       "    }\n",
       "\n",
       "    .dataframe tbody tr th {\n",
       "        vertical-align: top;\n",
       "    }\n",
       "\n",
       "    .dataframe thead th {\n",
       "        text-align: right;\n",
       "    }\n",
       "</style>\n",
       "<table border=\"1\" class=\"dataframe\">\n",
       "  <thead>\n",
       "    <tr style=\"text-align: right;\">\n",
       "      <th></th>\n",
       "      <th>diet_id</th>\n",
       "    </tr>\n",
       "    <tr>\n",
       "      <th>recipe_id</th>\n",
       "      <th></th>\n",
       "    </tr>\n",
       "  </thead>\n",
       "  <tbody>\n",
       "    <tr>\n",
       "      <th>6663</th>\n",
       "      <td>[4, 5, 1, 2]</td>\n",
       "    </tr>\n",
       "    <tr>\n",
       "      <th>6664</th>\n",
       "      <td>[4, 5, 1]</td>\n",
       "    </tr>\n",
       "    <tr>\n",
       "      <th>6665</th>\n",
       "      <td>[4, 5, 1, 3]</td>\n",
       "    </tr>\n",
       "    <tr>\n",
       "      <th>6666</th>\n",
       "      <td>[5, 3, 1]</td>\n",
       "    </tr>\n",
       "    <tr>\n",
       "      <th>6667</th>\n",
       "      <td>[6, 4, 5, 1]</td>\n",
       "    </tr>\n",
       "  </tbody>\n",
       "</table>\n",
       "</div>"
      ],
      "text/plain": [
       "                diet_id\n",
       "recipe_id              \n",
       "6663       [4, 5, 1, 2]\n",
       "6664          [4, 5, 1]\n",
       "6665       [4, 5, 1, 3]\n",
       "6666          [5, 3, 1]\n",
       "6667       [6, 4, 5, 1]"
      ]
     },
     "execution_count": 68,
     "metadata": {},
     "output_type": "execute_result"
    }
   ],
   "source": [
    "# group the fits_df by recipe_id to get the list of diets for each recipe\n",
    "diest_lists = fits_df.groupby(\"recipe_id\")[\"diet_id\"].apply(list).to_frame()\n",
    "diest_lists.head()\n"
   ]
  },
  {
   "cell_type": "code",
   "execution_count": 69,
   "metadata": {},
   "outputs": [
    {
     "data": {
      "text/html": [
       "<div>\n",
       "<style scoped>\n",
       "    .dataframe tbody tr th:only-of-type {\n",
       "        vertical-align: middle;\n",
       "    }\n",
       "\n",
       "    .dataframe tbody tr th {\n",
       "        vertical-align: top;\n",
       "    }\n",
       "\n",
       "    .dataframe thead th {\n",
       "        text-align: right;\n",
       "    }\n",
       "</style>\n",
       "<table border=\"1\" class=\"dataframe\">\n",
       "  <thead>\n",
       "    <tr style=\"text-align: right;\">\n",
       "      <th></th>\n",
       "      <th>recipe_id</th>\n",
       "      <th>recipe_name</th>\n",
       "      <th>total_time</th>\n",
       "      <th>image</th>\n",
       "      <th>directions</th>\n",
       "      <th>ingredients</th>\n",
       "      <th>diet_id</th>\n",
       "    </tr>\n",
       "  </thead>\n",
       "  <tbody>\n",
       "    <tr>\n",
       "      <th>0</th>\n",
       "      <td>240488</td>\n",
       "      <td>Pork Loin, Apples, and Sauerkraut</td>\n",
       "      <td>165</td>\n",
       "      <td>https://images.media-allrecipes.com/userphotos...</td>\n",
       "      <td>\"Prep\\n15 m\\nCook\\n2 h 30 m\\nReady In\\n2 h 45...</td>\n",
       "      <td>sauerkraut drained^Granny Smith apples sliced^...</td>\n",
       "      <td>[4, 5, 6, 2, 3]</td>\n",
       "    </tr>\n",
       "    <tr>\n",
       "      <th>1</th>\n",
       "      <td>218939</td>\n",
       "      <td>Foolproof Rosemary Chicken Wings</td>\n",
       "      <td>60</td>\n",
       "      <td>https://images.media-allrecipes.com/userphotos...</td>\n",
       "      <td>\"Prep\\n20 m\\nCook\\n40 m\\nReady In\\n1 h\\nPrehe...</td>\n",
       "      <td>chicken wings^sprigs rosemary^head garlic^oliv...</td>\n",
       "      <td>[3, 4, 2, 5, 6]</td>\n",
       "    </tr>\n",
       "    <tr>\n",
       "      <th>2</th>\n",
       "      <td>87211</td>\n",
       "      <td>Chicken Pesto Paninis</td>\n",
       "      <td>20</td>\n",
       "      <td>https://images.media-allrecipes.com/userphotos...</td>\n",
       "      <td>\"Prep\\n15 m\\nCook\\n5 m\\nReady In\\n20 m\\nPrehe...</td>\n",
       "      <td>focaccia bread quartered^prepared basil pesto^...</td>\n",
       "      <td>[5, 6, 4]</td>\n",
       "    </tr>\n",
       "    <tr>\n",
       "      <th>3</th>\n",
       "      <td>245714</td>\n",
       "      <td>Potato Bacon Pizza</td>\n",
       "      <td>70</td>\n",
       "      <td>https://images.media-allrecipes.com/userphotos...</td>\n",
       "      <td>\"Prep\\n20 m\\nCook\\n45 m\\nReady In\\n1 h 10 m\\n...</td>\n",
       "      <td>red potatoes^strips bacon^Sauce:^heavy whippin...</td>\n",
       "      <td>[4, 5, 6]</td>\n",
       "    </tr>\n",
       "    <tr>\n",
       "      <th>4</th>\n",
       "      <td>218545</td>\n",
       "      <td>Latin-Inspired Spicy Cream Chicken Stew</td>\n",
       "      <td>505</td>\n",
       "      <td>https://images.media-allrecipes.com/userphotos...</td>\n",
       "      <td>\"Prep\\n10 m\\nCook\\n8 h 15 m\\nReady In\\n8 h 25...</td>\n",
       "      <td>skinless boneless chicken breast halves^diced ...</td>\n",
       "      <td>[2, 6, 4, 5]</td>\n",
       "    </tr>\n",
       "  </tbody>\n",
       "</table>\n",
       "</div>"
      ],
      "text/plain": [
       "   recipe_id                              recipe_name  total_time  \\\n",
       "0     240488        Pork Loin, Apples, and Sauerkraut         165   \n",
       "1     218939         Foolproof Rosemary Chicken Wings          60   \n",
       "2      87211                    Chicken Pesto Paninis          20   \n",
       "3     245714                       Potato Bacon Pizza          70   \n",
       "4     218545  Latin-Inspired Spicy Cream Chicken Stew         505   \n",
       "\n",
       "                                               image  \\\n",
       "0  https://images.media-allrecipes.com/userphotos...   \n",
       "1  https://images.media-allrecipes.com/userphotos...   \n",
       "2  https://images.media-allrecipes.com/userphotos...   \n",
       "3  https://images.media-allrecipes.com/userphotos...   \n",
       "4  https://images.media-allrecipes.com/userphotos...   \n",
       "\n",
       "                                          directions  \\\n",
       "0   \"Prep\\n15 m\\nCook\\n2 h 30 m\\nReady In\\n2 h 45...   \n",
       "1   \"Prep\\n20 m\\nCook\\n40 m\\nReady In\\n1 h\\nPrehe...   \n",
       "2   \"Prep\\n15 m\\nCook\\n5 m\\nReady In\\n20 m\\nPrehe...   \n",
       "3   \"Prep\\n20 m\\nCook\\n45 m\\nReady In\\n1 h 10 m\\n...   \n",
       "4   \"Prep\\n10 m\\nCook\\n8 h 15 m\\nReady In\\n8 h 25...   \n",
       "\n",
       "                                         ingredients          diet_id  \n",
       "0  sauerkraut drained^Granny Smith apples sliced^...  [4, 5, 6, 2, 3]  \n",
       "1  chicken wings^sprigs rosemary^head garlic^oliv...  [3, 4, 2, 5, 6]  \n",
       "2  focaccia bread quartered^prepared basil pesto^...        [5, 6, 4]  \n",
       "3  red potatoes^strips bacon^Sauce:^heavy whippin...        [4, 5, 6]  \n",
       "4  skinless boneless chicken breast halves^diced ...     [2, 6, 4, 5]  "
      ]
     },
     "execution_count": 69,
     "metadata": {},
     "output_type": "execute_result"
    }
   ],
   "source": [
    "enriched_recipes_df = pd.merge(recipes_df, diest_lists.reset_index(), how=\"left\", left_on=\"recipe_id\", right_on=\"recipe_id\")\n",
    "enriched_recipes_df.head()\n"
   ]
  },
  {
   "cell_type": "code",
   "execution_count": 70,
   "metadata": {},
   "outputs": [
    {
     "data": {
      "text/html": [
       "<div>\n",
       "<style scoped>\n",
       "    .dataframe tbody tr th:only-of-type {\n",
       "        vertical-align: middle;\n",
       "    }\n",
       "\n",
       "    .dataframe tbody tr th {\n",
       "        vertical-align: top;\n",
       "    }\n",
       "\n",
       "    .dataframe thead th {\n",
       "        text-align: right;\n",
       "    }\n",
       "</style>\n",
       "<table border=\"1\" class=\"dataframe\">\n",
       "  <thead>\n",
       "    <tr style=\"text-align: right;\">\n",
       "      <th></th>\n",
       "      <th>user_id</th>\n",
       "      <th>recipe_id</th>\n",
       "      <th>created_at</th>\n",
       "      <th>recipe_name</th>\n",
       "      <th>total_time</th>\n",
       "      <th>image</th>\n",
       "      <th>directions</th>\n",
       "      <th>ingredients</th>\n",
       "      <th>diet_id</th>\n",
       "    </tr>\n",
       "  </thead>\n",
       "  <tbody>\n",
       "    <tr>\n",
       "      <th>0</th>\n",
       "      <td>16</td>\n",
       "      <td>23934</td>\n",
       "      <td>2013-07-11 00:26:22.453177</td>\n",
       "      <td>Hot Onion Dip</td>\n",
       "      <td>40</td>\n",
       "      <td>http://images.media-allrecipes.com/userphotos/...</td>\n",
       "      <td>\"Prep\\n10 m\\nCook\\n30 m\\nReady In\\n40 m\\nPreh...</td>\n",
       "      <td>cream cheese^onion^grated Parmesan cheese^mayo...</td>\n",
       "      <td>[1, 4, 5, 2]</td>\n",
       "    </tr>\n",
       "    <tr>\n",
       "      <th>1</th>\n",
       "      <td>16</td>\n",
       "      <td>7375</td>\n",
       "      <td>2006-12-07 18:07:36.776625</td>\n",
       "      <td>Black Russian Cake I</td>\n",
       "      <td>60</td>\n",
       "      <td>http://images.media-allrecipes.com/userphotos/...</td>\n",
       "      <td>\"Prep\\n20 m\\nCook\\n40 m\\nReady In\\n1 h\\nPrehe...</td>\n",
       "      <td>moist yellow cake mix^instant chocolate puddin...</td>\n",
       "      <td>[5, 3, 4, 1, 2]</td>\n",
       "    </tr>\n",
       "    <tr>\n",
       "      <th>2</th>\n",
       "      <td>16</td>\n",
       "      <td>8070</td>\n",
       "      <td>2006-12-22 12:54:53.133625</td>\n",
       "      <td>Blackberry Jam Cake I</td>\n",
       "      <td>0</td>\n",
       "      <td>http://images.media-allrecipes.com/userphotos/...</td>\n",
       "      <td>\"Combine flour, baking powder, salt, cocoa, c...</td>\n",
       "      <td>butter^white sugar^egg yolks^baking soda^butte...</td>\n",
       "      <td>[1, 4, 5]</td>\n",
       "    </tr>\n",
       "    <tr>\n",
       "      <th>3</th>\n",
       "      <td>16</td>\n",
       "      <td>8887</td>\n",
       "      <td>2007-03-01 12:27:06.826625</td>\n",
       "      <td>Chicken Marsala</td>\n",
       "      <td>30</td>\n",
       "      <td>https://images.media-allrecipes.com/userphotos...</td>\n",
       "      <td>\"Prep\\n10 m\\nCook\\n20 m\\nReady In\\n30 m\\nIn a...</td>\n",
       "      <td>all-purpose flour for coating^salt^ground blac...</td>\n",
       "      <td>[4, 5, 6]</td>\n",
       "    </tr>\n",
       "    <tr>\n",
       "      <th>4</th>\n",
       "      <td>16</td>\n",
       "      <td>11763</td>\n",
       "      <td>2008-02-24 19:42:17.146625</td>\n",
       "      <td>Seafood Lasagna I</td>\n",
       "      <td>0</td>\n",
       "      <td>https://images.media-allrecipes.com/userphotos...</td>\n",
       "      <td>\"Cook the lasagna noodles in a large pot of b...</td>\n",
       "      <td>onion^butter^cottage cheese^cream cheese^dried...</td>\n",
       "      <td>[1, 2, 4]</td>\n",
       "    </tr>\n",
       "  </tbody>\n",
       "</table>\n",
       "</div>"
      ],
      "text/plain": [
       "   user_id  recipe_id                  created_at            recipe_name  \\\n",
       "0       16      23934  2013-07-11 00:26:22.453177          Hot Onion Dip   \n",
       "1       16       7375  2006-12-07 18:07:36.776625   Black Russian Cake I   \n",
       "2       16       8070  2006-12-22 12:54:53.133625  Blackberry Jam Cake I   \n",
       "3       16       8887  2007-03-01 12:27:06.826625        Chicken Marsala   \n",
       "4       16      11763  2008-02-24 19:42:17.146625      Seafood Lasagna I   \n",
       "\n",
       "   total_time                                              image  \\\n",
       "0          40  http://images.media-allrecipes.com/userphotos/...   \n",
       "1          60  http://images.media-allrecipes.com/userphotos/...   \n",
       "2           0  http://images.media-allrecipes.com/userphotos/...   \n",
       "3          30  https://images.media-allrecipes.com/userphotos...   \n",
       "4           0  https://images.media-allrecipes.com/userphotos...   \n",
       "\n",
       "                                          directions  \\\n",
       "0   \"Prep\\n10 m\\nCook\\n30 m\\nReady In\\n40 m\\nPreh...   \n",
       "1   \"Prep\\n20 m\\nCook\\n40 m\\nReady In\\n1 h\\nPrehe...   \n",
       "2   \"Combine flour, baking powder, salt, cocoa, c...   \n",
       "3   \"Prep\\n10 m\\nCook\\n20 m\\nReady In\\n30 m\\nIn a...   \n",
       "4   \"Cook the lasagna noodles in a large pot of b...   \n",
       "\n",
       "                                         ingredients          diet_id  \n",
       "0  cream cheese^onion^grated Parmesan cheese^mayo...     [1, 4, 5, 2]  \n",
       "1  moist yellow cake mix^instant chocolate puddin...  [5, 3, 4, 1, 2]  \n",
       "2  butter^white sugar^egg yolks^baking soda^butte...        [1, 4, 5]  \n",
       "3  all-purpose flour for coating^salt^ground blac...        [4, 5, 6]  \n",
       "4  onion^butter^cottage cheese^cream cheese^dried...        [1, 2, 4]  "
      ]
     },
     "execution_count": 70,
     "metadata": {},
     "output_type": "execute_result"
    }
   ],
   "source": [
    "enriched_eats_df = pd.merge(eats_df, enriched_recipes_df, how=\"left\", left_on=\"recipe_id\", right_on=\"recipe_id\")\n",
    "enriched_eats_df.head()"
   ]
  },
  {
   "cell_type": "code",
   "execution_count": 71,
   "metadata": {},
   "outputs": [
    {
     "data": {
      "text/html": [
       "<div>\n",
       "<style scoped>\n",
       "    .dataframe tbody tr th:only-of-type {\n",
       "        vertical-align: middle;\n",
       "    }\n",
       "\n",
       "    .dataframe tbody tr th {\n",
       "        vertical-align: top;\n",
       "    }\n",
       "\n",
       "    .dataframe thead th {\n",
       "        text-align: right;\n",
       "    }\n",
       "</style>\n",
       "<table border=\"1\" class=\"dataframe\">\n",
       "  <thead>\n",
       "    <tr style=\"text-align: right;\">\n",
       "      <th></th>\n",
       "      <th>diet_id</th>\n",
       "    </tr>\n",
       "    <tr>\n",
       "      <th>user_id</th>\n",
       "      <th></th>\n",
       "    </tr>\n",
       "  </thead>\n",
       "  <tbody>\n",
       "    <tr>\n",
       "      <th>16</th>\n",
       "      <td>[[1, 4, 5, 2], [5, 3, 4, 1, 2], [1, 4, 5], [4,...</td>\n",
       "    </tr>\n",
       "    <tr>\n",
       "      <th>21</th>\n",
       "      <td>[[4, 1, 2, 5, 6], [5, 6, 2, 4], [4, 1, 5], [4,...</td>\n",
       "    </tr>\n",
       "    <tr>\n",
       "      <th>22</th>\n",
       "      <td>[[4, 5, 1, 2, 6], [2, 3, 0, 1, 5, 6], [1, 5, 6...</td>\n",
       "    </tr>\n",
       "    <tr>\n",
       "      <th>26</th>\n",
       "      <td>[[4, 5, 6], [5, 2, 6, 3, 4], [4, 5, 2, 6], [4,...</td>\n",
       "    </tr>\n",
       "    <tr>\n",
       "      <th>32</th>\n",
       "      <td>[[4, 5, 2, 1], [2, 3, 4, 5, 6], [5, 3, 1], [2,...</td>\n",
       "    </tr>\n",
       "  </tbody>\n",
       "</table>\n",
       "</div>"
      ],
      "text/plain": [
       "                                                   diet_id\n",
       "user_id                                                   \n",
       "16       [[1, 4, 5, 2], [5, 3, 4, 1, 2], [1, 4, 5], [4,...\n",
       "21       [[4, 1, 2, 5, 6], [5, 6, 2, 4], [4, 1, 5], [4,...\n",
       "22       [[4, 5, 1, 2, 6], [2, 3, 0, 1, 5, 6], [1, 5, 6...\n",
       "26       [[4, 5, 6], [5, 2, 6, 3, 4], [4, 5, 2, 6], [4,...\n",
       "32       [[4, 5, 2, 1], [2, 3, 4, 5, 6], [5, 3, 1], [2,..."
      ]
     },
     "execution_count": 71,
     "metadata": {},
     "output_type": "execute_result"
    }
   ],
   "source": [
    "# get the list of diets for each user\n",
    "user_diet_eats = enriched_eats_df[enriched_eats_df[\"diet_id\"].notna()].groupby(\"user_id\")[\"diet_id\"].apply(list).to_frame()\n",
    "user_diet_eats.head()\n"
   ]
  },
  {
   "cell_type": "code",
   "execution_count": 72,
   "metadata": {},
   "outputs": [
    {
     "data": {
      "text/html": [
       "<div>\n",
       "<style scoped>\n",
       "    .dataframe tbody tr th:only-of-type {\n",
       "        vertical-align: middle;\n",
       "    }\n",
       "\n",
       "    .dataframe tbody tr th {\n",
       "        vertical-align: top;\n",
       "    }\n",
       "\n",
       "    .dataframe thead th {\n",
       "        text-align: right;\n",
       "    }\n",
       "</style>\n",
       "<table border=\"1\" class=\"dataframe\">\n",
       "  <thead>\n",
       "    <tr style=\"text-align: right;\">\n",
       "      <th></th>\n",
       "      <th>diet_id</th>\n",
       "      <th>follows</th>\n",
       "    </tr>\n",
       "    <tr>\n",
       "      <th>user_id</th>\n",
       "      <th></th>\n",
       "      <th></th>\n",
       "    </tr>\n",
       "  </thead>\n",
       "  <tbody>\n",
       "    <tr>\n",
       "      <th>16</th>\n",
       "      <td>[[1, 4, 5, 2], [5, 3, 4, 1, 2], [1, 4, 5], [4,...</td>\n",
       "      <td>{}</td>\n",
       "    </tr>\n",
       "    <tr>\n",
       "      <th>21</th>\n",
       "      <td>[[4, 1, 2, 5, 6], [5, 6, 2, 4], [4, 1, 5], [4,...</td>\n",
       "      <td>{5}</td>\n",
       "    </tr>\n",
       "    <tr>\n",
       "      <th>22</th>\n",
       "      <td>[[4, 5, 1, 2, 6], [2, 3, 0, 1, 5, 6], [1, 5, 6...</td>\n",
       "      <td>{}</td>\n",
       "    </tr>\n",
       "    <tr>\n",
       "      <th>26</th>\n",
       "      <td>[[4, 5, 6], [5, 2, 6, 3, 4], [4, 5, 2, 6], [4,...</td>\n",
       "      <td>{4, 5}</td>\n",
       "    </tr>\n",
       "    <tr>\n",
       "      <th>32</th>\n",
       "      <td>[[4, 5, 2, 1], [2, 3, 4, 5, 6], [5, 3, 1], [2,...</td>\n",
       "      <td>{}</td>\n",
       "    </tr>\n",
       "  </tbody>\n",
       "</table>\n",
       "</div>"
      ],
      "text/plain": [
       "                                                   diet_id follows\n",
       "user_id                                                           \n",
       "16       [[1, 4, 5, 2], [5, 3, 4, 1, 2], [1, 4, 5], [4,...      {}\n",
       "21       [[4, 1, 2, 5, 6], [5, 6, 2, 4], [4, 1, 5], [4,...     {5}\n",
       "22       [[4, 5, 1, 2, 6], [2, 3, 0, 1, 5, 6], [1, 5, 6...      {}\n",
       "26       [[4, 5, 6], [5, 2, 6, 3, 4], [4, 5, 2, 6], [4,...  {4, 5}\n",
       "32       [[4, 5, 2, 1], [2, 3, 4, 5, 6], [5, 3, 1], [2,...      {}"
      ]
     },
     "execution_count": 72,
     "metadata": {},
     "output_type": "execute_result"
    }
   ],
   "source": [
    "# Now let's create the follows table. If a user choose all of his recipes by specific diets, we will create a follows record for each diet.\n",
    "def count_diet_eats(diet_ids_lists):\n",
    "    if not diet_ids_lists:\n",
    "        return set()\n",
    "    follows = set()\n",
    "    all_diets = set(diet_df[\"diet_id\"])\n",
    "    for diet_id in all_diets:\n",
    "        if all(diet_id in diet_ids_list for diet_ids_list in diet_ids_lists):\n",
    "            follows.add(diet_id)\n",
    "    return follows\n",
    "\n",
    "user_diet_eats[\"follows\"] = user_diet_eats[\"diet_id\"].apply(count_diet_eats)\n",
    "user_diet_eats.head()"
   ]
  },
  {
   "cell_type": "code",
   "execution_count": 73,
   "metadata": {},
   "outputs": [
    {
     "data": {
      "text/html": [
       "<div>\n",
       "<style scoped>\n",
       "    .dataframe tbody tr th:only-of-type {\n",
       "        vertical-align: middle;\n",
       "    }\n",
       "\n",
       "    .dataframe tbody tr th {\n",
       "        vertical-align: top;\n",
       "    }\n",
       "\n",
       "    .dataframe thead th {\n",
       "        text-align: right;\n",
       "    }\n",
       "</style>\n",
       "<table border=\"1\" class=\"dataframe\">\n",
       "  <thead>\n",
       "    <tr style=\"text-align: right;\">\n",
       "      <th></th>\n",
       "      <th>count</th>\n",
       "      <th>mean</th>\n",
       "      <th>std</th>\n",
       "      <th>min</th>\n",
       "      <th>25%</th>\n",
       "      <th>50%</th>\n",
       "      <th>75%</th>\n",
       "      <th>max</th>\n",
       "    </tr>\n",
       "  </thead>\n",
       "  <tbody>\n",
       "    <tr>\n",
       "      <th>follows</th>\n",
       "      <td>1155839.0</td>\n",
       "      <td>1.872713</td>\n",
       "      <td>1.035617</td>\n",
       "      <td>0.0</td>\n",
       "      <td>1.0</td>\n",
       "      <td>2.0</td>\n",
       "      <td>2.0</td>\n",
       "      <td>7.0</td>\n",
       "    </tr>\n",
       "  </tbody>\n",
       "</table>\n",
       "</div>"
      ],
      "text/plain": [
       "             count      mean       std  min  25%  50%  75%  max\n",
       "follows  1155839.0  1.872713  1.035617  0.0  1.0  2.0  2.0  7.0"
      ]
     },
     "execution_count": 73,
     "metadata": {},
     "output_type": "execute_result"
    }
   ],
   "source": [
    "user_diet_eats[\"follows\"].apply(len).describe().to_frame().T\n"
   ]
  },
  {
   "cell_type": "code",
   "execution_count": 74,
   "metadata": {},
   "outputs": [
    {
     "data": {
      "text/html": [
       "<div>\n",
       "<style scoped>\n",
       "    .dataframe tbody tr th:only-of-type {\n",
       "        vertical-align: middle;\n",
       "    }\n",
       "\n",
       "    .dataframe tbody tr th {\n",
       "        vertical-align: top;\n",
       "    }\n",
       "\n",
       "    .dataframe thead th {\n",
       "        text-align: right;\n",
       "    }\n",
       "</style>\n",
       "<table border=\"1\" class=\"dataframe\">\n",
       "  <thead>\n",
       "    <tr style=\"text-align: right;\">\n",
       "      <th></th>\n",
       "      <th>user_id</th>\n",
       "      <th>follows</th>\n",
       "    </tr>\n",
       "  </thead>\n",
       "  <tbody>\n",
       "    <tr>\n",
       "      <th>1</th>\n",
       "      <td>21</td>\n",
       "      <td>5</td>\n",
       "    </tr>\n",
       "    <tr>\n",
       "      <th>3</th>\n",
       "      <td>26</td>\n",
       "      <td>4</td>\n",
       "    </tr>\n",
       "    <tr>\n",
       "      <th>3</th>\n",
       "      <td>26</td>\n",
       "      <td>5</td>\n",
       "    </tr>\n",
       "  </tbody>\n",
       "</table>\n",
       "</div>"
      ],
      "text/plain": [
       "   user_id follows\n",
       "1       21       5\n",
       "3       26       4\n",
       "3       26       5"
      ]
     },
     "execution_count": 74,
     "metadata": {},
     "output_type": "execute_result"
    }
   ],
   "source": [
    "user_diet_eats.head().reset_index()[[\"user_id\", \"follows\"]].explode(\"follows\").dropna()"
   ]
  },
  {
   "cell_type": "code",
   "execution_count": 75,
   "metadata": {},
   "outputs": [
    {
     "data": {
      "text/html": [
       "<div>\n",
       "<style scoped>\n",
       "    .dataframe tbody tr th:only-of-type {\n",
       "        vertical-align: middle;\n",
       "    }\n",
       "\n",
       "    .dataframe tbody tr th {\n",
       "        vertical-align: top;\n",
       "    }\n",
       "\n",
       "    .dataframe thead th {\n",
       "        text-align: right;\n",
       "    }\n",
       "</style>\n",
       "<table border=\"1\" class=\"dataframe\">\n",
       "  <thead>\n",
       "    <tr style=\"text-align: right;\">\n",
       "      <th></th>\n",
       "      <th>user_id</th>\n",
       "      <th>diet_id</th>\n",
       "    </tr>\n",
       "  </thead>\n",
       "  <tbody>\n",
       "    <tr>\n",
       "      <th>0</th>\n",
       "      <td>21</td>\n",
       "      <td>5</td>\n",
       "    </tr>\n",
       "    <tr>\n",
       "      <th>1</th>\n",
       "      <td>26</td>\n",
       "      <td>4</td>\n",
       "    </tr>\n",
       "    <tr>\n",
       "      <th>2</th>\n",
       "      <td>26</td>\n",
       "      <td>5</td>\n",
       "    </tr>\n",
       "    <tr>\n",
       "      <th>3</th>\n",
       "      <td>44</td>\n",
       "      <td>5</td>\n",
       "    </tr>\n",
       "    <tr>\n",
       "      <th>4</th>\n",
       "      <td>55</td>\n",
       "      <td>4</td>\n",
       "    </tr>\n",
       "  </tbody>\n",
       "</table>\n",
       "</div>"
      ],
      "text/plain": [
       "   user_id  diet_id\n",
       "0       21        5\n",
       "1       26        4\n",
       "2       26        5\n",
       "3       44        5\n",
       "4       55        4"
      ]
     },
     "execution_count": 75,
     "metadata": {},
     "output_type": "execute_result"
    }
   ],
   "source": [
    "# Now create the follows table\n",
    "follows_df = user_diet_eats.reset_index()[[\"user_id\", \"follows\"]].explode(\"follows\")\n",
    "follows_df.rename(columns={\"follows\": \"diet_id\"}, inplace=True)\n",
    "follows_df.dropna(inplace=True)\n",
    "follows_df.to_csv(\"follows.csv\", index=False)\n",
    "follows_df = pd.read_csv(\"follows.csv\")\n",
    "follows_df.head()"
   ]
  },
  {
   "cell_type": "markdown",
   "metadata": {},
   "source": [
    "## 2.7. Create the admin table\n"
   ]
  },
  {
   "cell_type": "code",
   "execution_count": null,
   "metadata": {},
   "outputs": [],
   "source": []
  },
  {
   "cell_type": "code",
   "execution_count": 80,
   "metadata": {},
   "outputs": [
    {
     "data": {
      "text/html": [
       "<div>\n",
       "<style scoped>\n",
       "    .dataframe tbody tr th:only-of-type {\n",
       "        vertical-align: middle;\n",
       "    }\n",
       "\n",
       "    .dataframe tbody tr th {\n",
       "        vertical-align: top;\n",
       "    }\n",
       "\n",
       "    .dataframe thead th {\n",
       "        text-align: right;\n",
       "    }\n",
       "</style>\n",
       "<table border=\"1\" class=\"dataframe\">\n",
       "  <thead>\n",
       "    <tr style=\"text-align: right;\">\n",
       "      <th></th>\n",
       "      <th>user_id</th>\n",
       "      <th>name</th>\n",
       "      <th>email</th>\n",
       "      <th>password_hash</th>\n",
       "      <th>date_of_birth</th>\n",
       "      <th>weight</th>\n",
       "      <th>height</th>\n",
       "      <th>sex</th>\n",
       "      <th>created_at</th>\n",
       "    </tr>\n",
       "  </thead>\n",
       "  <tbody>\n",
       "    <tr>\n",
       "      <th>314120</th>\n",
       "      <td>21</td>\n",
       "      <td>Mark Rosario</td>\n",
       "      <td>21@example.com</td>\n",
       "      <td>$2b$12$HLyLfbyxXovuTREeRlfUAODUuM8Rrf15VuFnaDb...</td>\n",
       "      <td>1984-08-31</td>\n",
       "      <td>48</td>\n",
       "      <td>169</td>\n",
       "      <td>F</td>\n",
       "      <td>2009-09-15</td>\n",
       "    </tr>\n",
       "    <tr>\n",
       "      <th>511218</th>\n",
       "      <td>9521845</td>\n",
       "      <td>Melissa Cruz</td>\n",
       "      <td>9521845@example.com</td>\n",
       "      <td>$2b$12$HLyLfbyxXovuTREeRlfUAODUuM8Rrf15VuFnaDb...</td>\n",
       "      <td>1991-09-28</td>\n",
       "      <td>84</td>\n",
       "      <td>186</td>\n",
       "      <td>M</td>\n",
       "      <td>2019-03-30</td>\n",
       "    </tr>\n",
       "    <tr>\n",
       "      <th>533083</th>\n",
       "      <td>26</td>\n",
       "      <td>Meredith Warren</td>\n",
       "      <td>26@example.com</td>\n",
       "      <td>$2b$12$HLyLfbyxXovuTREeRlfUAODUuM8Rrf15VuFnaDb...</td>\n",
       "      <td>1990-01-20</td>\n",
       "      <td>81</td>\n",
       "      <td>166</td>\n",
       "      <td>F</td>\n",
       "      <td>2006-12-01</td>\n",
       "    </tr>\n",
       "  </tbody>\n",
       "</table>\n",
       "</div>"
      ],
      "text/plain": [
       "        user_id             name                email  \\\n",
       "314120       21     Mark Rosario       21@example.com   \n",
       "511218  9521845     Melissa Cruz  9521845@example.com   \n",
       "533083       26  Meredith Warren       26@example.com   \n",
       "\n",
       "                                            password_hash date_of_birth  \\\n",
       "314120  $2b$12$HLyLfbyxXovuTREeRlfUAODUuM8Rrf15VuFnaDb...    1984-08-31   \n",
       "511218  $2b$12$HLyLfbyxXovuTREeRlfUAODUuM8Rrf15VuFnaDb...    1991-09-28   \n",
       "533083  $2b$12$HLyLfbyxXovuTREeRlfUAODUuM8Rrf15VuFnaDb...    1990-01-20   \n",
       "\n",
       "        weight  height sex  created_at  \n",
       "314120      48     169   F  2009-09-15  \n",
       "511218      84     186   M  2019-03-30  \n",
       "533083      81     166   F  2006-12-01  "
      ]
     },
     "execution_count": 80,
     "metadata": {},
     "output_type": "execute_result"
    }
   ],
   "source": [
    "ADMIN_IDS = [26, 21, 9521845]\n",
    "user_df[user_df[\"user_id\"].isin(ADMIN_IDS)]\n"
   ]
  },
  {
   "cell_type": "code",
   "execution_count": 81,
   "metadata": {},
   "outputs": [
    {
     "data": {
      "text/html": [
       "<div>\n",
       "<style scoped>\n",
       "    .dataframe tbody tr th:only-of-type {\n",
       "        vertical-align: middle;\n",
       "    }\n",
       "\n",
       "    .dataframe tbody tr th {\n",
       "        vertical-align: top;\n",
       "    }\n",
       "\n",
       "    .dataframe thead th {\n",
       "        text-align: right;\n",
       "    }\n",
       "</style>\n",
       "<table border=\"1\" class=\"dataframe\">\n",
       "  <thead>\n",
       "    <tr style=\"text-align: right;\">\n",
       "      <th></th>\n",
       "      <th>user_id</th>\n",
       "      <th>promoted_at</th>\n",
       "    </tr>\n",
       "  </thead>\n",
       "  <tbody>\n",
       "    <tr>\n",
       "      <th>0</th>\n",
       "      <td>26</td>\n",
       "      <td>2024-12-26</td>\n",
       "    </tr>\n",
       "    <tr>\n",
       "      <th>1</th>\n",
       "      <td>21</td>\n",
       "      <td>2024-12-26</td>\n",
       "    </tr>\n",
       "    <tr>\n",
       "      <th>2</th>\n",
       "      <td>9521845</td>\n",
       "      <td>2024-12-26</td>\n",
       "    </tr>\n",
       "  </tbody>\n",
       "</table>\n",
       "</div>"
      ],
      "text/plain": [
       "   user_id promoted_at\n",
       "0       26  2024-12-26\n",
       "1       21  2024-12-26\n",
       "2  9521845  2024-12-26"
      ]
     },
     "execution_count": 81,
     "metadata": {},
     "output_type": "execute_result"
    }
   ],
   "source": [
    "# Now create the admin table - columns are user_id, date_promoted (today)\n",
    "admin_df = pd.DataFrame(\n",
    "    {\"user_id\": ADMIN_IDS, \"promoted_at\": pd.Timestamp.now().strftime(\"%Y-%m-%d\")}\n",
    ")\n",
    "admin_df.to_csv(\"admin.csv\", index=False)\n",
    "admin_df = pd.read_csv(\"admin.csv\")\n",
    "admin_df.head()"
   ]
  },
  {
   "cell_type": "markdown",
   "metadata": {},
   "source": [
    "## 2.8. Create the user_nutrition table (tracks table)\n"
   ]
  },
  {
   "cell_type": "code",
   "execution_count": 82,
   "metadata": {},
   "outputs": [
    {
     "data": {
      "text/html": [
       "<div>\n",
       "<style scoped>\n",
       "    .dataframe tbody tr th:only-of-type {\n",
       "        vertical-align: middle;\n",
       "    }\n",
       "\n",
       "    .dataframe tbody tr th {\n",
       "        vertical-align: top;\n",
       "    }\n",
       "\n",
       "    .dataframe thead th {\n",
       "        text-align: right;\n",
       "    }\n",
       "</style>\n",
       "<table border=\"1\" class=\"dataframe\">\n",
       "  <thead>\n",
       "    <tr style=\"text-align: right;\">\n",
       "      <th></th>\n",
       "      <th>Age Group</th>\n",
       "      <th>Sex</th>\n",
       "      <th>Nutrition Name</th>\n",
       "      <th>Unit</th>\n",
       "      <th>Recommended Daily Value</th>\n",
       "    </tr>\n",
       "  </thead>\n",
       "  <tbody>\n",
       "    <tr>\n",
       "      <th>0</th>\n",
       "      <td>14-18</td>\n",
       "      <td>M</td>\n",
       "      <td>Dietary Fiber</td>\n",
       "      <td>g</td>\n",
       "      <td>28.0</td>\n",
       "    </tr>\n",
       "    <tr>\n",
       "      <th>1</th>\n",
       "      <td>14-18</td>\n",
       "      <td>F</td>\n",
       "      <td>Dietary Fiber</td>\n",
       "      <td>g</td>\n",
       "      <td>25.0</td>\n",
       "    </tr>\n",
       "    <tr>\n",
       "      <th>2</th>\n",
       "      <td>19-30</td>\n",
       "      <td>M</td>\n",
       "      <td>Dietary Fiber</td>\n",
       "      <td>g</td>\n",
       "      <td>34.0</td>\n",
       "    </tr>\n",
       "    <tr>\n",
       "      <th>3</th>\n",
       "      <td>19-30</td>\n",
       "      <td>F</td>\n",
       "      <td>Dietary Fiber</td>\n",
       "      <td>g</td>\n",
       "      <td>28.0</td>\n",
       "    </tr>\n",
       "    <tr>\n",
       "      <th>4</th>\n",
       "      <td>31-50</td>\n",
       "      <td>M</td>\n",
       "      <td>Dietary Fiber</td>\n",
       "      <td>g</td>\n",
       "      <td>31.0</td>\n",
       "    </tr>\n",
       "  </tbody>\n",
       "</table>\n",
       "</div>"
      ],
      "text/plain": [
       "  Age Group Sex Nutrition Name Unit  Recommended Daily Value\n",
       "0     14-18   M  Dietary Fiber    g                     28.0\n",
       "1     14-18   F  Dietary Fiber    g                     25.0\n",
       "2     19-30   M  Dietary Fiber    g                     34.0\n",
       "3     19-30   F  Dietary Fiber    g                     28.0\n",
       "4     31-50   M  Dietary Fiber    g                     31.0"
      ]
     },
     "execution_count": 82,
     "metadata": {},
     "output_type": "execute_result"
    }
   ],
   "source": [
    "daily_nutrition_df = pd.read_csv(\"daily_nutrition_values.csv\")\n",
    "daily_nutrition_df.head()"
   ]
  },
  {
   "cell_type": "code",
   "execution_count": 83,
   "metadata": {},
   "outputs": [],
   "source": [
    "def get_age_group(date_of_birth: str) -> str:\n",
    "    age = 2025 - pd.to_datetime(date_of_birth).year\n",
    "    if age < 18:\n",
    "        return \"14-18\"\n",
    "    elif age < 31:\n",
    "        return \"19-30\"\n",
    "    elif age < 51:\n",
    "        return \"31-50\"\n",
    "    else:\n",
    "        return \"51+\""
   ]
  },
  {
   "cell_type": "code",
   "execution_count": 205,
   "metadata": {},
   "outputs": [
    {
     "data": {
      "text/plain": [
       "date_of_birth\n",
       "31-50    1026845\n",
       "19-30     125696\n",
       "51+         7726\n",
       "Name: count, dtype: int64"
      ]
     },
     "execution_count": 205,
     "metadata": {},
     "output_type": "execute_result"
    }
   ],
   "source": [
    "age_groups = user_df[\"date_of_birth\"].apply(get_age_group)\n",
    "age_groups.value_counts()\n"
   ]
  },
  {
   "cell_type": "code",
   "execution_count": 201,
   "metadata": {},
   "outputs": [
    {
     "data": {
      "text/plain": [
       "array(['Carbohydrates', 'Niacin Equivalents', 'Dietary Fiber', 'Thiamin',\n",
       "       'Vitamin A - IU', 'Calories', 'Fat', 'Saturated Fat', 'Potassium',\n",
       "       'Calcium', 'Protein', 'Sodium', 'Vitamin C', 'Sugars', 'Folate',\n",
       "       'Calories from Fat', 'Iron', 'Magnesium', 'Vitamin B6',\n",
       "       'Cholesterol'], dtype=object)"
      ]
     },
     "execution_count": 201,
     "metadata": {},
     "output_type": "execute_result"
    }
   ],
   "source": [
    "all_nutritions = nutritions_df[\"name\"].unique()\n",
    "all_nutritions\n"
   ]
  },
  {
   "cell_type": "code",
   "execution_count": 210,
   "metadata": {},
   "outputs": [
    {
     "name": "stderr",
     "output_type": "stream",
     "text": [
      "Processing users: 100%|██████████| 1160267/1160267 [1:01:56<00:00, 312.19it/s]\n"
     ]
    },
    {
     "data": {
      "text/html": [
       "<div>\n",
       "<style scoped>\n",
       "    .dataframe tbody tr th:only-of-type {\n",
       "        vertical-align: middle;\n",
       "    }\n",
       "\n",
       "    .dataframe tbody tr th {\n",
       "        vertical-align: top;\n",
       "    }\n",
       "\n",
       "    .dataframe thead th {\n",
       "        text-align: right;\n",
       "    }\n",
       "</style>\n",
       "<table border=\"1\" class=\"dataframe\">\n",
       "  <thead>\n",
       "    <tr style=\"text-align: right;\">\n",
       "      <th></th>\n",
       "      <th>user_id</th>\n",
       "      <th>nutrition_name</th>\n",
       "      <th>tracked_value</th>\n",
       "    </tr>\n",
       "  </thead>\n",
       "  <tbody>\n",
       "    <tr>\n",
       "      <th>0</th>\n",
       "      <td>2910440</td>\n",
       "      <td>Vitamin B6</td>\n",
       "      <td>1.3</td>\n",
       "    </tr>\n",
       "    <tr>\n",
       "      <th>1</th>\n",
       "      <td>14304347</td>\n",
       "      <td>Carbohydrates</td>\n",
       "      <td>130.0</td>\n",
       "    </tr>\n",
       "    <tr>\n",
       "      <th>2</th>\n",
       "      <td>16309484</td>\n",
       "      <td>Sodium</td>\n",
       "      <td>2300.0</td>\n",
       "    </tr>\n",
       "    <tr>\n",
       "      <th>3</th>\n",
       "      <td>18224627</td>\n",
       "      <td>Vitamin C</td>\n",
       "      <td>75.0</td>\n",
       "    </tr>\n",
       "    <tr>\n",
       "      <th>4</th>\n",
       "      <td>12273679</td>\n",
       "      <td>Carbohydrates</td>\n",
       "      <td>130.0</td>\n",
       "    </tr>\n",
       "  </tbody>\n",
       "</table>\n",
       "</div>"
      ],
      "text/plain": [
       "    user_id nutrition_name  tracked_value\n",
       "0   2910440     Vitamin B6            1.3\n",
       "1  14304347  Carbohydrates          130.0\n",
       "2  16309484         Sodium         2300.0\n",
       "3  18224627      Vitamin C           75.0\n",
       "4  12273679  Carbohydrates          130.0"
      ]
     },
     "execution_count": 210,
     "metadata": {},
     "output_type": "execute_result"
    }
   ],
   "source": [
    "tracks = set()\n",
    "for user_id, age_group in tqdm(zip(user_df[\"user_id\"], age_groups), desc=\"Processing users\", total=len(age_groups)):\n",
    "    user_sex = user_df[user_df[\"user_id\"] == user_id][\"sex\"].values[0]\n",
    "    user_nutritions = daily_nutrition_df[(daily_nutrition_df[\"Age Group\"] == age_group) & (daily_nutrition_df[\"Sex\"] == user_sex)]\n",
    "    for nutrition_name, unit, average_daily_value in zip(user_nutritions[\"Nutrition Name\"], user_nutritions[\"Unit\"], user_nutritions[\"Recommended Daily Value\"]):\n",
    "        tracks.add((user_id, nutrition_name, average_daily_value))\n",
    "\n",
    "user_nutrition_df = pd.DataFrame(tracks, columns=[\"user_id\", \"nutrition_name\", \"tracked_value\"])\n",
    "user_nutrition_df.to_csv(\"user_nutrition.csv\", index=False)\n",
    "user_nutrition_df = pd.read_csv(\"user_nutrition.csv\")\n",
    "user_nutrition_df.head()\n"
   ]
  },
  {
   "cell_type": "code",
   "execution_count": 211,
   "metadata": {},
   "outputs": [
    {
     "data": {
      "text/plain": [
       "(23205340, 3)"
      ]
     },
     "execution_count": 211,
     "metadata": {},
     "output_type": "execute_result"
    }
   ],
   "source": [
    "user_nutrition_df.shape"
   ]
  },
  {
   "cell_type": "code",
   "execution_count": null,
   "metadata": {},
   "outputs": [
    {
     "data": {
      "text/plain": [
       "(23205340, 3)"
      ]
     },
     "metadata": {},
     "output_type": "display_data"
    }
   ],
   "source": [
    "user_nutrition_df.shape"
   ]
  },
  {
   "cell_type": "code",
   "execution_count": 212,
   "metadata": {},
   "outputs": [
    {
     "data": {
      "text/plain": [
       "user_id\n",
       "True    23205340\n",
       "Name: count, dtype: int64"
      ]
     },
     "execution_count": 212,
     "metadata": {},
     "output_type": "execute_result"
    }
   ],
   "source": [
    "user_nutrition_df[\"user_id\"].isin(user_df[\"user_id\"]).value_counts()\n"
   ]
  },
  {
   "cell_type": "code",
   "execution_count": 213,
   "metadata": {},
   "outputs": [],
   "source": [
    "# verify that all user_ids in the user_nutrition table are in the users table\n",
    "assert user_nutrition_df[\"user_id\"].isin(set(user_df[\"user_id\"].unique())).all()\n",
    "assert user_nutrition_df[\"nutrition_name\"].isin(set(nutritions_df[\"name\"].unique())).all()\n",
    "\n"
   ]
  },
  {
   "cell_type": "markdown",
   "metadata": {},
   "source": [
    "# 3. Create the database"
   ]
  },
  {
   "cell_type": "code",
   "execution_count": 88,
   "metadata": {},
   "outputs": [],
   "source": [
    "import mysql.connector"
   ]
  },
  {
   "cell_type": "code",
   "execution_count": 214,
   "metadata": {},
   "outputs": [
    {
     "name": "stdout",
     "output_type": "stream",
     "text": [
      "[('dbs',), ('information_schema',), ('mysql',), ('performance_schema',), ('sakila',), ('sys',), ('world',)]\n"
     ]
    }
   ],
   "source": [
    "mysql_user = \"root\"\n",
    "mysql_password = \"root\"\n",
    "mysql_host = \"localhost\"\n",
    "mysql_port = 3306\n",
    "mysql_database = \"dbs\"\n",
    "\n",
    "# Create the database\n",
    "conn = mysql.connector.connect(\n",
    "    host=mysql_host,\n",
    "    port=mysql_port,\n",
    "    user=mysql_user,\n",
    "    password=mysql_password,\n",
    "    database=mysql_database,\n",
    "    time_zone='+00:00'\n",
    ")\n",
    "\n",
    "cur = conn.cursor()\n",
    "# test the connection\n",
    "cur.execute(\"SHOW DATABASES\")\n",
    "print(cur.fetchall())"
   ]
  },
  {
   "cell_type": "code",
   "execution_count": 215,
   "metadata": {},
   "outputs": [
    {
     "name": "stdout",
     "output_type": "stream",
     "text": [
      "[('admin',), ('contains',), ('diet',), ('eats',), ('fits',), ('nutrition',), ('rating',), ('recipe',), ('user',), ('user_diet',), ('user_nutrition',)]\n"
     ]
    }
   ],
   "source": [
    "# list the tables\n",
    "cur.execute(\"SHOW TABLES\")\n",
    "print(cur.fetchall())"
   ]
  },
  {
   "cell_type": "code",
   "execution_count": 216,
   "metadata": {},
   "outputs": [],
   "source": [
    "table_names_to_df = {\n",
    "    \"admin\": admin_df,\n",
    "    \"contains\": contains_df,\n",
    "    \"diet\": diet_df,\n",
    "    \"eats\": eats_df,\n",
    "    \"fits\": fits_df,\n",
    "    \"nutrition\": nutritions_df,\n",
    "    \"rating\": rating_df,\n",
    "    \"recipe\": recipes_df,\n",
    "    \"user\": user_df,\n",
    "    \"user_diet\": follows_df,\n",
    "    \"user_nutrition\": user_nutrition_df,\n",
    "}"
   ]
  },
  {
   "cell_type": "code",
   "execution_count": 192,
   "metadata": {},
   "outputs": [],
   "source": [
    "# First, let's validate the columns of the tables\n",
    "for table_name, df in table_names_to_df.items():\n",
    "    columns = \", \".join([f\"`{col}`\" for col in df.columns])\n",
    "    query = f\"SHOW COLUMNS FROM {table_name}\"\n",
    "    cur.execute(query)\n",
    "    db_columns = [col[0] for col in cur.fetchall()]\n",
    "    for col in df.columns:\n",
    "        if col not in db_columns:\n",
    "            raise ValueError(f\"Column {col} not found in database: {table_name}\")\n",
    "    \n"
   ]
  },
  {
   "cell_type": "code",
   "execution_count": 330,
   "metadata": {},
   "outputs": [],
   "source": [
    "# we need to start with the user and recipe tables\n",
    "tables_order = [\"user\", \"recipe\", \"admin\"]\n",
    "for table_name in tables_order:\n",
    "    df = table_names_to_df[table_name]\n",
    "    for i, row in tqdm(df.iterrows(), desc=f\"Inserting {table_name} rows\", total=len(df)):\n",
    "        columns = \", \".join([f\"`{col}`\" for col in df.columns])\n",
    "        values = \", \".join([f\"'{val}'\" for val in row])\n",
    "        query = f\"INSERT INTO {table_name} ({columns}) VALUES ({values})\"\n",
    "        try:\n",
    "            cur.execute(query)\n",
    "            # Flush every 5000 rows\n",
    "            if i > 0 and i % 5000 == 0:\n",
    "                conn.commit()\n",
    "        except Exception as e:\n",
    "            print(f\"Error inserting row {i} into {table_name}: {e}\")\n",
    "            print(f\"Query: {query}\")\n",
    "            print(f\"Row: {row}\")\n",
    "            raise e\n",
    "    \n",
    "    # Final commit for any remaining rows\n",
    "    conn.commit()\n"
   ]
  },
  {
   "cell_type": "markdown",
   "metadata": {},
   "source": [
    "Now, let's insert the rest of the tables"
   ]
  },
  {
   "cell_type": "code",
   "execution_count": 196,
   "metadata": {},
   "outputs": [],
   "source": [
    "conn.commit()"
   ]
  },
  {
   "cell_type": "code",
   "execution_count": 217,
   "metadata": {},
   "outputs": [
    {
     "name": "stderr",
     "output_type": "stream",
     "text": [
      "Inserting user_nutrition rows:   7%|▋         | 1554450/23205340 [29:19<11:45:54, 511.18it/s]"
     ]
    }
   ],
   "source": [
    "tables_order = [\n",
    "    # \"rating\",\n",
    "    # \"diet\",\n",
    "    # \"nutrition\",\n",
    "    # \"contains\",\n",
    "    # \"eats\",\n",
    "    # \"fits\",\n",
    "    # \"user_diet\",\n",
    "    \"user_nutrition\",\n",
    "]\n",
    "for table_name in tables_order:\n",
    "    df = table_names_to_df[table_name]\n",
    "    for i, row in tqdm(\n",
    "        df.iterrows(), desc=f\"Inserting {table_name} rows\", total=len(df)\n",
    "    ):\n",
    "        columns = \", \".join([f\"`{col}`\" for col in df.columns])\n",
    "        values = []\n",
    "\n",
    "        for val in row:\n",
    "            if isinstance(val, list):\n",
    "                json_str = json.dumps(val)\n",
    "                values.append(f\"%s\")\n",
    "            else:\n",
    "                values.append(f\"%s\")\n",
    "\n",
    "        values_str = \", \".join(values)\n",
    "        query = f\"INSERT INTO {table_name} ({columns}) VALUES ({values_str})\"\n",
    "        try:\n",
    "            cur.execute(\n",
    "                query,\n",
    "                tuple(\n",
    "                    str(val) if not isinstance(val, list) else json.dumps(val)\n",
    "                    for val in row\n",
    "                ),\n",
    "            )\n",
    "            # Flush every 5000 rows\n",
    "            if i > 0 and i % 5000 == 0:\n",
    "                conn.commit()\n",
    "        except Exception as e:\n",
    "            print(f\"Error inserting row {i} into {table_name}: {e}\")\n",
    "            print(f\"Query: {query}\")\n",
    "            print(f\"Row: {row}\")\n",
    "            raise e\n",
    "\n",
    "    # Final commit for any remaining rows\n",
    "    conn.commit()"
   ]
  },
  {
   "cell_type": "code",
   "execution_count": 224,
   "metadata": {},
   "outputs": [
    {
     "ename": "ProgrammingError",
     "evalue": "1054 (42S22): Unknown column 'date_promoted' in 'field list'",
     "output_type": "error",
     "traceback": [
      "\u001b[1;31m---------------------------------------------------------------------------\u001b[0m",
      "\u001b[1;31mMySQLInterfaceError\u001b[0m                       Traceback (most recent call last)",
      "File \u001b[1;32mc:\\Users\\gilbe\\Documents\\Academics\\M.Sc\\Year 4\\Semester A\\DB Workshop\\venv\\lib\\site-packages\\mysql\\connector\\connection_cext.py:705\u001b[0m, in \u001b[0;36mCMySQLConnection.cmd_query\u001b[1;34m(self, query, raw, buffered, raw_as_string)\u001b[0m\n\u001b[0;32m    704\u001b[0m         query \u001b[38;5;241m=\u001b[39m query\u001b[38;5;241m.\u001b[39mencode(\u001b[38;5;124m\"\u001b[39m\u001b[38;5;124mutf-8\u001b[39m\u001b[38;5;124m\"\u001b[39m)\n\u001b[1;32m--> 705\u001b[0m     \u001b[38;5;28;43mself\u001b[39;49m\u001b[38;5;241;43m.\u001b[39;49m\u001b[43m_cmysql\u001b[49m\u001b[38;5;241;43m.\u001b[39;49m\u001b[43mquery\u001b[49m\u001b[43m(\u001b[49m\n\u001b[0;32m    706\u001b[0m \u001b[43m        \u001b[49m\u001b[43mquery\u001b[49m\u001b[43m,\u001b[49m\n\u001b[0;32m    707\u001b[0m \u001b[43m        \u001b[49m\u001b[43mraw\u001b[49m\u001b[38;5;241;43m=\u001b[39;49m\u001b[43mraw\u001b[49m\u001b[43m,\u001b[49m\n\u001b[0;32m    708\u001b[0m \u001b[43m        \u001b[49m\u001b[43mbuffered\u001b[49m\u001b[38;5;241;43m=\u001b[39;49m\u001b[43mbuffered\u001b[49m\u001b[43m,\u001b[49m\n\u001b[0;32m    709\u001b[0m \u001b[43m        \u001b[49m\u001b[43mraw_as_string\u001b[49m\u001b[38;5;241;43m=\u001b[39;49m\u001b[43mraw_as_string\u001b[49m\u001b[43m,\u001b[49m\n\u001b[0;32m    710\u001b[0m \u001b[43m        \u001b[49m\u001b[43mquery_attrs\u001b[49m\u001b[38;5;241;43m=\u001b[39;49m\u001b[38;5;28;43mself\u001b[39;49m\u001b[38;5;241;43m.\u001b[39;49m\u001b[43mquery_attrs\u001b[49m\u001b[43m,\u001b[49m\n\u001b[0;32m    711\u001b[0m \u001b[43m    \u001b[49m\u001b[43m)\u001b[49m\n\u001b[0;32m    712\u001b[0m \u001b[38;5;28;01mexcept\u001b[39;00m MySQLInterfaceError \u001b[38;5;28;01mas\u001b[39;00m err:\n",
      "\u001b[1;31mMySQLInterfaceError\u001b[0m: Unknown column 'date_promoted' in 'field list'",
      "\nThe above exception was the direct cause of the following exception:\n",
      "\u001b[1;31mProgrammingError\u001b[0m                          Traceback (most recent call last)",
      "Cell \u001b[1;32mIn[224], line 6\u001b[0m\n\u001b[0;32m      4\u001b[0m values \u001b[38;5;241m=\u001b[39m \u001b[38;5;124m\"\u001b[39m\u001b[38;5;124m, \u001b[39m\u001b[38;5;124m\"\u001b[39m\u001b[38;5;241m.\u001b[39mjoin([\u001b[38;5;124mf\u001b[39m\u001b[38;5;124m\"\u001b[39m\u001b[38;5;124m'\u001b[39m\u001b[38;5;132;01m{\u001b[39;00mval\u001b[38;5;132;01m}\u001b[39;00m\u001b[38;5;124m'\u001b[39m\u001b[38;5;124m\"\u001b[39m \u001b[38;5;28;01mfor\u001b[39;00m val \u001b[38;5;129;01min\u001b[39;00m row])\n\u001b[0;32m      5\u001b[0m query \u001b[38;5;241m=\u001b[39m \u001b[38;5;124mf\u001b[39m\u001b[38;5;124m\"\u001b[39m\u001b[38;5;124mINSERT INTO \u001b[39m\u001b[38;5;132;01m{\u001b[39;00mtable_name\u001b[38;5;132;01m}\u001b[39;00m\u001b[38;5;124m (\u001b[39m\u001b[38;5;132;01m{\u001b[39;00mcolumns\u001b[38;5;132;01m}\u001b[39;00m\u001b[38;5;124m) VALUES (\u001b[39m\u001b[38;5;132;01m{\u001b[39;00mvalues\u001b[38;5;132;01m}\u001b[39;00m\u001b[38;5;124m)\u001b[39m\u001b[38;5;124m\"\u001b[39m\n\u001b[1;32m----> 6\u001b[0m \u001b[43mcur\u001b[49m\u001b[38;5;241;43m.\u001b[39;49m\u001b[43mexecute\u001b[49m\u001b[43m(\u001b[49m\u001b[43mquery\u001b[49m\u001b[43m)\u001b[49m\n",
      "File \u001b[1;32mc:\\Users\\gilbe\\Documents\\Academics\\M.Sc\\Year 4\\Semester A\\DB Workshop\\venv\\lib\\site-packages\\mysql\\connector\\cursor_cext.py:357\u001b[0m, in \u001b[0;36mCMySQLCursor.execute\u001b[1;34m(self, operation, params, multi)\u001b[0m\n\u001b[0;32m    352\u001b[0m             \u001b[38;5;28;01mraise\u001b[39;00m ProgrammingError(\n\u001b[0;32m    353\u001b[0m                 \u001b[38;5;124m\"\u001b[39m\u001b[38;5;124mNot all parameters were used in the SQL statement\u001b[39m\u001b[38;5;124m\"\u001b[39m\n\u001b[0;32m    354\u001b[0m             )\n\u001b[0;32m    356\u001b[0m \u001b[38;5;28;01mtry\u001b[39;00m:\n\u001b[1;32m--> 357\u001b[0m     result \u001b[38;5;241m=\u001b[39m \u001b[38;5;28;43mself\u001b[39;49m\u001b[38;5;241;43m.\u001b[39;49m\u001b[43m_connection\u001b[49m\u001b[38;5;241;43m.\u001b[39;49m\u001b[43mcmd_query\u001b[49m\u001b[43m(\u001b[49m\n\u001b[0;32m    358\u001b[0m \u001b[43m        \u001b[49m\u001b[43mstmt\u001b[49m\u001b[43m,\u001b[49m\n\u001b[0;32m    359\u001b[0m \u001b[43m        \u001b[49m\u001b[43mraw\u001b[49m\u001b[38;5;241;43m=\u001b[39;49m\u001b[38;5;28;43mself\u001b[39;49m\u001b[38;5;241;43m.\u001b[39;49m\u001b[43m_raw\u001b[49m\u001b[43m,\u001b[49m\n\u001b[0;32m    360\u001b[0m \u001b[43m        \u001b[49m\u001b[43mbuffered\u001b[49m\u001b[38;5;241;43m=\u001b[39;49m\u001b[38;5;28;43mself\u001b[39;49m\u001b[38;5;241;43m.\u001b[39;49m\u001b[43m_buffered\u001b[49m\u001b[43m,\u001b[49m\n\u001b[0;32m    361\u001b[0m \u001b[43m        \u001b[49m\u001b[43mraw_as_string\u001b[49m\u001b[38;5;241;43m=\u001b[39;49m\u001b[38;5;28;43mself\u001b[39;49m\u001b[38;5;241;43m.\u001b[39;49m\u001b[43m_raw_as_string\u001b[49m\u001b[43m,\u001b[49m\n\u001b[0;32m    362\u001b[0m \u001b[43m    \u001b[49m\u001b[43m)\u001b[49m\n\u001b[0;32m    363\u001b[0m \u001b[38;5;28;01mexcept\u001b[39;00m MySQLInterfaceError \u001b[38;5;28;01mas\u001b[39;00m err:\n\u001b[0;32m    364\u001b[0m     \u001b[38;5;28;01mraise\u001b[39;00m get_mysql_exception(\n\u001b[0;32m    365\u001b[0m         msg\u001b[38;5;241m=\u001b[39merr\u001b[38;5;241m.\u001b[39mmsg, errno\u001b[38;5;241m=\u001b[39merr\u001b[38;5;241m.\u001b[39merrno, sqlstate\u001b[38;5;241m=\u001b[39merr\u001b[38;5;241m.\u001b[39msqlstate\n\u001b[0;32m    366\u001b[0m     ) \u001b[38;5;28;01mfrom\u001b[39;00m \u001b[38;5;21;01merr\u001b[39;00m\n",
      "File \u001b[1;32mc:\\Users\\gilbe\\Documents\\Academics\\M.Sc\\Year 4\\Semester A\\DB Workshop\\venv\\lib\\site-packages\\mysql\\connector\\opentelemetry\\context_propagation.py:97\u001b[0m, in \u001b[0;36mwith_context_propagation.<locals>.wrapper\u001b[1;34m(cnx, *args, **kwargs)\u001b[0m\n\u001b[0;32m     95\u001b[0m \u001b[38;5;66;03m# pylint: disable=possibly-used-before-assignment\u001b[39;00m\n\u001b[0;32m     96\u001b[0m \u001b[38;5;28;01mif\u001b[39;00m \u001b[38;5;129;01mnot\u001b[39;00m OTEL_ENABLED \u001b[38;5;129;01mor\u001b[39;00m \u001b[38;5;129;01mnot\u001b[39;00m cnx\u001b[38;5;241m.\u001b[39motel_context_propagation:\n\u001b[1;32m---> 97\u001b[0m     \u001b[38;5;28;01mreturn\u001b[39;00m \u001b[43mmethod\u001b[49m\u001b[43m(\u001b[49m\u001b[43mcnx\u001b[49m\u001b[43m,\u001b[49m\u001b[43m \u001b[49m\u001b[38;5;241;43m*\u001b[39;49m\u001b[43margs\u001b[49m\u001b[43m,\u001b[49m\u001b[43m \u001b[49m\u001b[38;5;241;43m*\u001b[39;49m\u001b[38;5;241;43m*\u001b[39;49m\u001b[43mkwargs\u001b[49m\u001b[43m)\u001b[49m\n\u001b[0;32m     99\u001b[0m current_span \u001b[38;5;241m=\u001b[39m trace\u001b[38;5;241m.\u001b[39mget_current_span()\n\u001b[0;32m    100\u001b[0m tp_header \u001b[38;5;241m=\u001b[39m \u001b[38;5;28;01mNone\u001b[39;00m\n",
      "File \u001b[1;32mc:\\Users\\gilbe\\Documents\\Academics\\M.Sc\\Year 4\\Semester A\\DB Workshop\\venv\\lib\\site-packages\\mysql\\connector\\connection_cext.py:713\u001b[0m, in \u001b[0;36mCMySQLConnection.cmd_query\u001b[1;34m(self, query, raw, buffered, raw_as_string)\u001b[0m\n\u001b[0;32m    705\u001b[0m     \u001b[38;5;28mself\u001b[39m\u001b[38;5;241m.\u001b[39m_cmysql\u001b[38;5;241m.\u001b[39mquery(\n\u001b[0;32m    706\u001b[0m         query,\n\u001b[0;32m    707\u001b[0m         raw\u001b[38;5;241m=\u001b[39mraw,\n\u001b[1;32m   (...)\u001b[0m\n\u001b[0;32m    710\u001b[0m         query_attrs\u001b[38;5;241m=\u001b[39m\u001b[38;5;28mself\u001b[39m\u001b[38;5;241m.\u001b[39mquery_attrs,\n\u001b[0;32m    711\u001b[0m     )\n\u001b[0;32m    712\u001b[0m \u001b[38;5;28;01mexcept\u001b[39;00m MySQLInterfaceError \u001b[38;5;28;01mas\u001b[39;00m err:\n\u001b[1;32m--> 713\u001b[0m     \u001b[38;5;28;01mraise\u001b[39;00m get_mysql_exception(\n\u001b[0;32m    714\u001b[0m         err\u001b[38;5;241m.\u001b[39merrno, msg\u001b[38;5;241m=\u001b[39merr\u001b[38;5;241m.\u001b[39mmsg, sqlstate\u001b[38;5;241m=\u001b[39merr\u001b[38;5;241m.\u001b[39msqlstate\n\u001b[0;32m    715\u001b[0m     ) \u001b[38;5;28;01mfrom\u001b[39;00m \u001b[38;5;21;01merr\u001b[39;00m\n\u001b[0;32m    716\u001b[0m \u001b[38;5;28;01mexcept\u001b[39;00m \u001b[38;5;167;01mAttributeError\u001b[39;00m \u001b[38;5;28;01mas\u001b[39;00m err:\n\u001b[0;32m    717\u001b[0m     addr \u001b[38;5;241m=\u001b[39m (\n\u001b[0;32m    718\u001b[0m         \u001b[38;5;28mself\u001b[39m\u001b[38;5;241m.\u001b[39m_unix_socket \u001b[38;5;28;01mif\u001b[39;00m \u001b[38;5;28mself\u001b[39m\u001b[38;5;241m.\u001b[39m_unix_socket \u001b[38;5;28;01melse\u001b[39;00m \u001b[38;5;124mf\u001b[39m\u001b[38;5;124m\"\u001b[39m\u001b[38;5;132;01m{\u001b[39;00m\u001b[38;5;28mself\u001b[39m\u001b[38;5;241m.\u001b[39m_host\u001b[38;5;132;01m}\u001b[39;00m\u001b[38;5;124m:\u001b[39m\u001b[38;5;132;01m{\u001b[39;00m\u001b[38;5;28mself\u001b[39m\u001b[38;5;241m.\u001b[39m_port\u001b[38;5;132;01m}\u001b[39;00m\u001b[38;5;124m\"\u001b[39m\n\u001b[0;32m    719\u001b[0m     )\n",
      "\u001b[1;31mProgrammingError\u001b[0m: 1054 (42S22): Unknown column 'date_promoted' in 'field list'"
     ]
    }
   ],
   "source": [
    "for table_name, df in table_names_to_df.items():\n",
    "    for i, row in df.iterrows():\n",
    "        columns = \", \".join([f\"`{col}`\" for col in df.columns])\n",
    "        values = \", \".join([f\"'{val}'\" for val in row])\n",
    "        query = f\"INSERT INTO {table_name} ({columns}) VALUES ({values})\"\n",
    "        cur.execute(query)\n",
    "\n"
   ]
  }
 ],
 "metadata": {
  "kernelspec": {
   "display_name": "win_venv",
   "language": "python",
   "name": "python3"
  },
  "language_info": {
   "codemirror_mode": {
    "name": "ipython",
    "version": 3
   },
   "file_extension": ".py",
   "mimetype": "text/x-python",
   "name": "python",
   "nbconvert_exporter": "python",
   "pygments_lexer": "ipython3",
   "version": "3.8.8"
  }
 },
 "nbformat": 4,
 "nbformat_minor": 2
}
